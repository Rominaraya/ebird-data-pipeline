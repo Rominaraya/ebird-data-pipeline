{
 "cells": [
  {
   "cell_type": "code",
   "id": "initial_id",
   "metadata": {
    "collapsed": true,
    "ExecuteTime": {
     "end_time": "2025-10-18T19:35:39.074483Z",
     "start_time": "2025-10-18T19:35:39.071781Z"
    }
   },
   "source": [
    "import json\n",
    "import pandas as pd\n",
    "from pathlib import Path"
   ],
   "outputs": [],
   "execution_count": 26
  },
  {
   "metadata": {
    "ExecuteTime": {
     "end_time": "2025-10-18T19:35:40.150576Z",
     "start_time": "2025-10-18T19:35:40.145860Z"
    }
   },
   "cell_type": "code",
   "source": [
    "# Listar archivos JSON en data/raw\n",
    "RAW_DATA_DIR = Path(\"../data/raw\")\n",
    "raw_files = sorted(RAW_DATA_DIR.glob(\"*.json\"))\n",
    "raw_files[-5:]"
   ],
   "id": "363e4d77391c5044",
   "outputs": [
    {
     "data": {
      "text/plain": [
       "[PosixPath('../data/raw/ebird_US_20250925_205039.json'),\n",
       " PosixPath('../data/raw/ebird_US_20250925_205047.json')]"
      ]
     },
     "execution_count": 27,
     "metadata": {},
     "output_type": "execute_result"
    }
   ],
   "execution_count": 27
  },
  {
   "metadata": {
    "ExecuteTime": {
     "end_time": "2025-10-18T19:35:41.444428Z",
     "start_time": "2025-10-18T19:35:41.430487Z"
    }
   },
   "cell_type": "code",
   "source": [
    "# Tomar el último archivo crudo\n",
    "latest_file = raw_files[-1]\n",
    "print(f\"Usando archivo: {latest_file}\")\n",
    "with open(latest_file, \"r\", encoding=\"utf-8\") as f:\n",
    "    raw_data = json.load(f)\n",
    "df = pd.DataFrame(raw_data)"
   ],
   "id": "1ab2b4111bcfd740",
   "outputs": [
    {
     "name": "stdout",
     "output_type": "stream",
     "text": [
      "Usando archivo: ../data/raw/ebird_US_20250925_205047.json\n"
     ]
    }
   ],
   "execution_count": 28
  },
  {
   "metadata": {
    "ExecuteTime": {
     "end_time": "2025-10-18T19:35:42.445049Z",
     "start_time": "2025-10-18T19:35:42.441354Z"
    }
   },
   "cell_type": "code",
   "source": [
    "NOTEBOOK_DIR = Path().resolve()\n",
    "BASE_DIR = NOTEBOOK_DIR.parent\n",
    "RAW_DATA_DIR = BASE_DIR / \"data\" / \"raw\""
   ],
   "id": "fb3f455ef14e6bfc",
   "outputs": [],
   "execution_count": 29
  },
  {
   "metadata": {
    "ExecuteTime": {
     "end_time": "2025-10-18T19:35:43.747244Z",
     "start_time": "2025-10-18T19:35:43.735356Z"
    }
   },
   "cell_type": "code",
   "source": [
    "# Primeras filas\n",
    "df.head(5)"
   ],
   "id": "7a7f8103f59cdcf1",
   "outputs": [
    {
     "data": {
      "text/plain": [
       "  speciesCode              comName                 sciName      locId  \\\n",
       "0      eursta      Estornino Pinto        Sturnus vulgaris  L51167893   \n",
       "1      amecro     Cuervo Americano   Corvus brachyrhynchos  L51167893   \n",
       "2      houfin  Camachuelo Mexicano    Haemorhous mexicanus  L51167893   \n",
       "3      eucdov        Tórtola Turca   Streptopelia decaocto  L51167893   \n",
       "4     cowscj1   Chara Californiana  Aphelocoma californica  L51167893   \n",
       "\n",
       "                locName             obsDt  howMany        lat         lng  \\\n",
       "0  Home (BackYard/Park)  2025-09-25 22:29     10.0  46.166141 -123.016334   \n",
       "1  Home (BackYard/Park)  2025-09-25 22:29      2.0  46.166141 -123.016334   \n",
       "2  Home (BackYard/Park)  2025-09-25 22:29      3.0  46.166141 -123.016334   \n",
       "3  Home (BackYard/Park)  2025-09-25 22:29      5.0  46.166141 -123.016334   \n",
       "4  Home (BackYard/Park)  2025-09-25 22:29      3.0  46.166141 -123.016334   \n",
       "\n",
       "   obsValid  obsReviewed  locationPrivate       subId exoticCategory  \n",
       "0      True        False             True  S275428083              N  \n",
       "1      True        False             True  S275428083            NaN  \n",
       "2      True        False             True  S275428083            NaN  \n",
       "3      True        False             True  S275428083              N  \n",
       "4      True        False             True  S275428083            NaN  "
      ],
      "text/html": [
       "<div>\n",
       "<style scoped>\n",
       "    .dataframe tbody tr th:only-of-type {\n",
       "        vertical-align: middle;\n",
       "    }\n",
       "\n",
       "    .dataframe tbody tr th {\n",
       "        vertical-align: top;\n",
       "    }\n",
       "\n",
       "    .dataframe thead th {\n",
       "        text-align: right;\n",
       "    }\n",
       "</style>\n",
       "<table border=\"1\" class=\"dataframe\">\n",
       "  <thead>\n",
       "    <tr style=\"text-align: right;\">\n",
       "      <th></th>\n",
       "      <th>speciesCode</th>\n",
       "      <th>comName</th>\n",
       "      <th>sciName</th>\n",
       "      <th>locId</th>\n",
       "      <th>locName</th>\n",
       "      <th>obsDt</th>\n",
       "      <th>howMany</th>\n",
       "      <th>lat</th>\n",
       "      <th>lng</th>\n",
       "      <th>obsValid</th>\n",
       "      <th>obsReviewed</th>\n",
       "      <th>locationPrivate</th>\n",
       "      <th>subId</th>\n",
       "      <th>exoticCategory</th>\n",
       "    </tr>\n",
       "  </thead>\n",
       "  <tbody>\n",
       "    <tr>\n",
       "      <th>0</th>\n",
       "      <td>eursta</td>\n",
       "      <td>Estornino Pinto</td>\n",
       "      <td>Sturnus vulgaris</td>\n",
       "      <td>L51167893</td>\n",
       "      <td>Home (BackYard/Park)</td>\n",
       "      <td>2025-09-25 22:29</td>\n",
       "      <td>10.0</td>\n",
       "      <td>46.166141</td>\n",
       "      <td>-123.016334</td>\n",
       "      <td>True</td>\n",
       "      <td>False</td>\n",
       "      <td>True</td>\n",
       "      <td>S275428083</td>\n",
       "      <td>N</td>\n",
       "    </tr>\n",
       "    <tr>\n",
       "      <th>1</th>\n",
       "      <td>amecro</td>\n",
       "      <td>Cuervo Americano</td>\n",
       "      <td>Corvus brachyrhynchos</td>\n",
       "      <td>L51167893</td>\n",
       "      <td>Home (BackYard/Park)</td>\n",
       "      <td>2025-09-25 22:29</td>\n",
       "      <td>2.0</td>\n",
       "      <td>46.166141</td>\n",
       "      <td>-123.016334</td>\n",
       "      <td>True</td>\n",
       "      <td>False</td>\n",
       "      <td>True</td>\n",
       "      <td>S275428083</td>\n",
       "      <td>NaN</td>\n",
       "    </tr>\n",
       "    <tr>\n",
       "      <th>2</th>\n",
       "      <td>houfin</td>\n",
       "      <td>Camachuelo Mexicano</td>\n",
       "      <td>Haemorhous mexicanus</td>\n",
       "      <td>L51167893</td>\n",
       "      <td>Home (BackYard/Park)</td>\n",
       "      <td>2025-09-25 22:29</td>\n",
       "      <td>3.0</td>\n",
       "      <td>46.166141</td>\n",
       "      <td>-123.016334</td>\n",
       "      <td>True</td>\n",
       "      <td>False</td>\n",
       "      <td>True</td>\n",
       "      <td>S275428083</td>\n",
       "      <td>NaN</td>\n",
       "    </tr>\n",
       "    <tr>\n",
       "      <th>3</th>\n",
       "      <td>eucdov</td>\n",
       "      <td>Tórtola Turca</td>\n",
       "      <td>Streptopelia decaocto</td>\n",
       "      <td>L51167893</td>\n",
       "      <td>Home (BackYard/Park)</td>\n",
       "      <td>2025-09-25 22:29</td>\n",
       "      <td>5.0</td>\n",
       "      <td>46.166141</td>\n",
       "      <td>-123.016334</td>\n",
       "      <td>True</td>\n",
       "      <td>False</td>\n",
       "      <td>True</td>\n",
       "      <td>S275428083</td>\n",
       "      <td>N</td>\n",
       "    </tr>\n",
       "    <tr>\n",
       "      <th>4</th>\n",
       "      <td>cowscj1</td>\n",
       "      <td>Chara Californiana</td>\n",
       "      <td>Aphelocoma californica</td>\n",
       "      <td>L51167893</td>\n",
       "      <td>Home (BackYard/Park)</td>\n",
       "      <td>2025-09-25 22:29</td>\n",
       "      <td>3.0</td>\n",
       "      <td>46.166141</td>\n",
       "      <td>-123.016334</td>\n",
       "      <td>True</td>\n",
       "      <td>False</td>\n",
       "      <td>True</td>\n",
       "      <td>S275428083</td>\n",
       "      <td>NaN</td>\n",
       "    </tr>\n",
       "  </tbody>\n",
       "</table>\n",
       "</div>"
      ]
     },
     "execution_count": 30,
     "metadata": {},
     "output_type": "execute_result"
    }
   ],
   "execution_count": 30
  },
  {
   "metadata": {
    "ExecuteTime": {
     "end_time": "2025-10-18T19:35:45.239261Z",
     "start_time": "2025-10-18T19:35:45.228821Z"
    }
   },
   "cell_type": "code",
   "source": [
    "# últimas filas\n",
    "df.tail(5)"
   ],
   "id": "ea4fc56766694534",
   "outputs": [
    {
     "data": {
      "text/plain": [
       "    speciesCode                            comName  \\\n",
       "565      vichum             Amazilia Coronivioleta   \n",
       "566      lecthr                 Cuitlacoche Pálido   \n",
       "567      lesnig                  Añapero Garrapena   \n",
       "568     mallar4  Ánade Azulón x Mexicano (híbrido)   \n",
       "569      compoo               Chotacabras Pachacua   \n",
       "\n",
       "                        sciName      locId  \\\n",
       "565        Ramosomyia violiceps   L1416495   \n",
       "566          Toxostoma lecontei  L53253695   \n",
       "567      Chordeiles acutipennis  L23740774   \n",
       "568  Anas platyrhynchos x diazi    L350281   \n",
       "569    Phalaenoptilus nuttallii   L9494786   \n",
       "\n",
       "                                    locName             obsDt  howMany  \\\n",
       "565                       1. Mule Pass Yard  2025-09-25 06:00      1.0   \n",
       "566  89019, Jean US-NV 35.69430, -115.35854  2025-09-25 05:59      1.0   \n",
       "567                         my neighborhood  2025-09-25 05:54      2.0   \n",
       "568              El Rio Open Space Preserve  2025-09-25 05:53      2.0   \n",
       "569                         Rock Stone Home  2025-09-25 05:52      1.0   \n",
       "\n",
       "           lat         lng  obsValid  obsReviewed  locationPrivate  \\\n",
       "565  31.464189 -109.956196      True        False             True   \n",
       "566  35.694302 -115.358536      True        False             True   \n",
       "567  33.681869 -112.391846      True        False             True   \n",
       "568  32.392141 -111.138490      True        False            False   \n",
       "569  33.270955 -116.988792      True        False             True   \n",
       "\n",
       "          subId exoticCategory  \n",
       "565  S275420478            NaN  \n",
       "566  S275421161            NaN  \n",
       "567  S275383823            NaN  \n",
       "568  S275413184            NaN  \n",
       "569  S275376021            NaN  "
      ],
      "text/html": [
       "<div>\n",
       "<style scoped>\n",
       "    .dataframe tbody tr th:only-of-type {\n",
       "        vertical-align: middle;\n",
       "    }\n",
       "\n",
       "    .dataframe tbody tr th {\n",
       "        vertical-align: top;\n",
       "    }\n",
       "\n",
       "    .dataframe thead th {\n",
       "        text-align: right;\n",
       "    }\n",
       "</style>\n",
       "<table border=\"1\" class=\"dataframe\">\n",
       "  <thead>\n",
       "    <tr style=\"text-align: right;\">\n",
       "      <th></th>\n",
       "      <th>speciesCode</th>\n",
       "      <th>comName</th>\n",
       "      <th>sciName</th>\n",
       "      <th>locId</th>\n",
       "      <th>locName</th>\n",
       "      <th>obsDt</th>\n",
       "      <th>howMany</th>\n",
       "      <th>lat</th>\n",
       "      <th>lng</th>\n",
       "      <th>obsValid</th>\n",
       "      <th>obsReviewed</th>\n",
       "      <th>locationPrivate</th>\n",
       "      <th>subId</th>\n",
       "      <th>exoticCategory</th>\n",
       "    </tr>\n",
       "  </thead>\n",
       "  <tbody>\n",
       "    <tr>\n",
       "      <th>565</th>\n",
       "      <td>vichum</td>\n",
       "      <td>Amazilia Coronivioleta</td>\n",
       "      <td>Ramosomyia violiceps</td>\n",
       "      <td>L1416495</td>\n",
       "      <td>1. Mule Pass Yard</td>\n",
       "      <td>2025-09-25 06:00</td>\n",
       "      <td>1.0</td>\n",
       "      <td>31.464189</td>\n",
       "      <td>-109.956196</td>\n",
       "      <td>True</td>\n",
       "      <td>False</td>\n",
       "      <td>True</td>\n",
       "      <td>S275420478</td>\n",
       "      <td>NaN</td>\n",
       "    </tr>\n",
       "    <tr>\n",
       "      <th>566</th>\n",
       "      <td>lecthr</td>\n",
       "      <td>Cuitlacoche Pálido</td>\n",
       "      <td>Toxostoma lecontei</td>\n",
       "      <td>L53253695</td>\n",
       "      <td>89019, Jean US-NV 35.69430, -115.35854</td>\n",
       "      <td>2025-09-25 05:59</td>\n",
       "      <td>1.0</td>\n",
       "      <td>35.694302</td>\n",
       "      <td>-115.358536</td>\n",
       "      <td>True</td>\n",
       "      <td>False</td>\n",
       "      <td>True</td>\n",
       "      <td>S275421161</td>\n",
       "      <td>NaN</td>\n",
       "    </tr>\n",
       "    <tr>\n",
       "      <th>567</th>\n",
       "      <td>lesnig</td>\n",
       "      <td>Añapero Garrapena</td>\n",
       "      <td>Chordeiles acutipennis</td>\n",
       "      <td>L23740774</td>\n",
       "      <td>my neighborhood</td>\n",
       "      <td>2025-09-25 05:54</td>\n",
       "      <td>2.0</td>\n",
       "      <td>33.681869</td>\n",
       "      <td>-112.391846</td>\n",
       "      <td>True</td>\n",
       "      <td>False</td>\n",
       "      <td>True</td>\n",
       "      <td>S275383823</td>\n",
       "      <td>NaN</td>\n",
       "    </tr>\n",
       "    <tr>\n",
       "      <th>568</th>\n",
       "      <td>mallar4</td>\n",
       "      <td>Ánade Azulón x Mexicano (híbrido)</td>\n",
       "      <td>Anas platyrhynchos x diazi</td>\n",
       "      <td>L350281</td>\n",
       "      <td>El Rio Open Space Preserve</td>\n",
       "      <td>2025-09-25 05:53</td>\n",
       "      <td>2.0</td>\n",
       "      <td>32.392141</td>\n",
       "      <td>-111.138490</td>\n",
       "      <td>True</td>\n",
       "      <td>False</td>\n",
       "      <td>False</td>\n",
       "      <td>S275413184</td>\n",
       "      <td>NaN</td>\n",
       "    </tr>\n",
       "    <tr>\n",
       "      <th>569</th>\n",
       "      <td>compoo</td>\n",
       "      <td>Chotacabras Pachacua</td>\n",
       "      <td>Phalaenoptilus nuttallii</td>\n",
       "      <td>L9494786</td>\n",
       "      <td>Rock Stone Home</td>\n",
       "      <td>2025-09-25 05:52</td>\n",
       "      <td>1.0</td>\n",
       "      <td>33.270955</td>\n",
       "      <td>-116.988792</td>\n",
       "      <td>True</td>\n",
       "      <td>False</td>\n",
       "      <td>True</td>\n",
       "      <td>S275376021</td>\n",
       "      <td>NaN</td>\n",
       "    </tr>\n",
       "  </tbody>\n",
       "</table>\n",
       "</div>"
      ]
     },
     "execution_count": 31,
     "metadata": {},
     "output_type": "execute_result"
    }
   ],
   "execution_count": 31
  },
  {
   "metadata": {
    "ExecuteTime": {
     "end_time": "2025-10-18T19:35:47.092752Z",
     "start_time": "2025-10-18T19:35:47.079061Z"
    }
   },
   "cell_type": "code",
   "source": [
    "# tipos de datos, nulos, memoria\n",
    "df.info()"
   ],
   "id": "7ae62f7db9e45eda",
   "outputs": [
    {
     "name": "stdout",
     "output_type": "stream",
     "text": [
      "<class 'pandas.core.frame.DataFrame'>\n",
      "RangeIndex: 570 entries, 0 to 569\n",
      "Data columns (total 14 columns):\n",
      " #   Column           Non-Null Count  Dtype  \n",
      "---  ------           --------------  -----  \n",
      " 0   speciesCode      570 non-null    object \n",
      " 1   comName          570 non-null    object \n",
      " 2   sciName          570 non-null    object \n",
      " 3   locId            570 non-null    object \n",
      " 4   locName          570 non-null    object \n",
      " 5   obsDt            570 non-null    object \n",
      " 6   howMany          565 non-null    float64\n",
      " 7   lat              570 non-null    float64\n",
      " 8   lng              570 non-null    float64\n",
      " 9   obsValid         570 non-null    bool   \n",
      " 10  obsReviewed      570 non-null    bool   \n",
      " 11  locationPrivate  570 non-null    bool   \n",
      " 12  subId            570 non-null    object \n",
      " 13  exoticCategory   44 non-null     object \n",
      "dtypes: bool(3), float64(3), object(8)\n",
      "memory usage: 50.8+ KB\n"
     ]
    }
   ],
   "execution_count": 32
  },
  {
   "metadata": {
    "ExecuteTime": {
     "end_time": "2025-10-18T19:35:51.401558Z",
     "start_time": "2025-10-18T19:35:51.398504Z"
    }
   },
   "cell_type": "code",
   "source": [
    "# (filas, columnas)\n",
    "df.shape"
   ],
   "id": "9b864c6fc4c89988",
   "outputs": [
    {
     "data": {
      "text/plain": [
       "(570, 14)"
      ]
     },
     "execution_count": 33,
     "metadata": {},
     "output_type": "execute_result"
    }
   ],
   "execution_count": 33
  },
  {
   "metadata": {
    "ExecuteTime": {
     "end_time": "2025-10-18T19:35:53.209602Z",
     "start_time": "2025-10-18T19:35:53.206047Z"
    }
   },
   "cell_type": "code",
   "source": [
    "# lista de columnas\n",
    "df.columns.tolist()"
   ],
   "id": "60cc158d4cc3a982",
   "outputs": [
    {
     "data": {
      "text/plain": [
       "['speciesCode',\n",
       " 'comName',\n",
       " 'sciName',\n",
       " 'locId',\n",
       " 'locName',\n",
       " 'obsDt',\n",
       " 'howMany',\n",
       " 'lat',\n",
       " 'lng',\n",
       " 'obsValid',\n",
       " 'obsReviewed',\n",
       " 'locationPrivate',\n",
       " 'subId',\n",
       " 'exoticCategory']"
      ]
     },
     "execution_count": 34,
     "metadata": {},
     "output_type": "execute_result"
    }
   ],
   "execution_count": 34
  },
  {
   "metadata": {
    "ExecuteTime": {
     "end_time": "2025-10-18T19:35:56.730796Z",
     "start_time": "2025-10-18T19:35:56.707115Z"
    }
   },
   "cell_type": "code",
   "source": [
    "# todas las columnas\n",
    "df.describe(include=\"all\")"
   ],
   "id": "187132d3cec44c67",
   "outputs": [
    {
     "data": {
      "text/plain": [
       "       speciesCode          comName           sciName    locId  \\\n",
       "count          570              570               570      570   \n",
       "unique         570              570               570      382   \n",
       "top         eursta  Estornino Pinto  Sturnus vulgaris  L861990   \n",
       "freq             1                1                 1        9   \n",
       "mean           NaN              NaN               NaN      NaN   \n",
       "std            NaN              NaN               NaN      NaN   \n",
       "min            NaN              NaN               NaN      NaN   \n",
       "25%            NaN              NaN               NaN      NaN   \n",
       "50%            NaN              NaN               NaN      NaN   \n",
       "75%            NaN              NaN               NaN      NaN   \n",
       "max            NaN              NaN               NaN      NaN   \n",
       "\n",
       "                                     locName             obsDt      howMany  \\\n",
       "count                                    570               570   565.000000   \n",
       "unique                                   379               258          NaN   \n",
       "top     Grassy Waters Nature Preserve--North  2025-09-25 13:42          NaN   \n",
       "freq                                       9                11          NaN   \n",
       "mean                                     NaN               NaN     9.079646   \n",
       "std                                      NaN               NaN    87.440937   \n",
       "min                                      NaN               NaN     1.000000   \n",
       "25%                                      NaN               NaN     1.000000   \n",
       "50%                                      NaN               NaN     1.000000   \n",
       "75%                                      NaN               NaN     3.000000   \n",
       "max                                      NaN               NaN  2000.000000   \n",
       "\n",
       "               lat         lng obsValid obsReviewed locationPrivate  \\\n",
       "count   570.000000  570.000000      570         570             570   \n",
       "unique         NaN         NaN        1           2               2   \n",
       "top            NaN         NaN     True       False           False   \n",
       "freq           NaN         NaN      570         563             308   \n",
       "mean     36.887629  -96.016247      NaN         NaN             NaN   \n",
       "std       7.327992   19.396980      NaN         NaN             NaN   \n",
       "min      21.922776 -159.484153      NaN         NaN             NaN   \n",
       "25%      30.409298 -111.011402      NaN         NaN             NaN   \n",
       "50%      37.684864  -94.634354      NaN         NaN             NaN   \n",
       "75%      41.827949  -80.212083      NaN         NaN             NaN   \n",
       "max      70.128616  -67.903233      NaN         NaN             NaN   \n",
       "\n",
       "             subId exoticCategory  \n",
       "count          570             44  \n",
       "unique         386              3  \n",
       "top     S275430858              N  \n",
       "freq             9             31  \n",
       "mean           NaN            NaN  \n",
       "std            NaN            NaN  \n",
       "min            NaN            NaN  \n",
       "25%            NaN            NaN  \n",
       "50%            NaN            NaN  \n",
       "75%            NaN            NaN  \n",
       "max            NaN            NaN  "
      ],
      "text/html": [
       "<div>\n",
       "<style scoped>\n",
       "    .dataframe tbody tr th:only-of-type {\n",
       "        vertical-align: middle;\n",
       "    }\n",
       "\n",
       "    .dataframe tbody tr th {\n",
       "        vertical-align: top;\n",
       "    }\n",
       "\n",
       "    .dataframe thead th {\n",
       "        text-align: right;\n",
       "    }\n",
       "</style>\n",
       "<table border=\"1\" class=\"dataframe\">\n",
       "  <thead>\n",
       "    <tr style=\"text-align: right;\">\n",
       "      <th></th>\n",
       "      <th>speciesCode</th>\n",
       "      <th>comName</th>\n",
       "      <th>sciName</th>\n",
       "      <th>locId</th>\n",
       "      <th>locName</th>\n",
       "      <th>obsDt</th>\n",
       "      <th>howMany</th>\n",
       "      <th>lat</th>\n",
       "      <th>lng</th>\n",
       "      <th>obsValid</th>\n",
       "      <th>obsReviewed</th>\n",
       "      <th>locationPrivate</th>\n",
       "      <th>subId</th>\n",
       "      <th>exoticCategory</th>\n",
       "    </tr>\n",
       "  </thead>\n",
       "  <tbody>\n",
       "    <tr>\n",
       "      <th>count</th>\n",
       "      <td>570</td>\n",
       "      <td>570</td>\n",
       "      <td>570</td>\n",
       "      <td>570</td>\n",
       "      <td>570</td>\n",
       "      <td>570</td>\n",
       "      <td>565.000000</td>\n",
       "      <td>570.000000</td>\n",
       "      <td>570.000000</td>\n",
       "      <td>570</td>\n",
       "      <td>570</td>\n",
       "      <td>570</td>\n",
       "      <td>570</td>\n",
       "      <td>44</td>\n",
       "    </tr>\n",
       "    <tr>\n",
       "      <th>unique</th>\n",
       "      <td>570</td>\n",
       "      <td>570</td>\n",
       "      <td>570</td>\n",
       "      <td>382</td>\n",
       "      <td>379</td>\n",
       "      <td>258</td>\n",
       "      <td>NaN</td>\n",
       "      <td>NaN</td>\n",
       "      <td>NaN</td>\n",
       "      <td>1</td>\n",
       "      <td>2</td>\n",
       "      <td>2</td>\n",
       "      <td>386</td>\n",
       "      <td>3</td>\n",
       "    </tr>\n",
       "    <tr>\n",
       "      <th>top</th>\n",
       "      <td>eursta</td>\n",
       "      <td>Estornino Pinto</td>\n",
       "      <td>Sturnus vulgaris</td>\n",
       "      <td>L861990</td>\n",
       "      <td>Grassy Waters Nature Preserve--North</td>\n",
       "      <td>2025-09-25 13:42</td>\n",
       "      <td>NaN</td>\n",
       "      <td>NaN</td>\n",
       "      <td>NaN</td>\n",
       "      <td>True</td>\n",
       "      <td>False</td>\n",
       "      <td>False</td>\n",
       "      <td>S275430858</td>\n",
       "      <td>N</td>\n",
       "    </tr>\n",
       "    <tr>\n",
       "      <th>freq</th>\n",
       "      <td>1</td>\n",
       "      <td>1</td>\n",
       "      <td>1</td>\n",
       "      <td>9</td>\n",
       "      <td>9</td>\n",
       "      <td>11</td>\n",
       "      <td>NaN</td>\n",
       "      <td>NaN</td>\n",
       "      <td>NaN</td>\n",
       "      <td>570</td>\n",
       "      <td>563</td>\n",
       "      <td>308</td>\n",
       "      <td>9</td>\n",
       "      <td>31</td>\n",
       "    </tr>\n",
       "    <tr>\n",
       "      <th>mean</th>\n",
       "      <td>NaN</td>\n",
       "      <td>NaN</td>\n",
       "      <td>NaN</td>\n",
       "      <td>NaN</td>\n",
       "      <td>NaN</td>\n",
       "      <td>NaN</td>\n",
       "      <td>9.079646</td>\n",
       "      <td>36.887629</td>\n",
       "      <td>-96.016247</td>\n",
       "      <td>NaN</td>\n",
       "      <td>NaN</td>\n",
       "      <td>NaN</td>\n",
       "      <td>NaN</td>\n",
       "      <td>NaN</td>\n",
       "    </tr>\n",
       "    <tr>\n",
       "      <th>std</th>\n",
       "      <td>NaN</td>\n",
       "      <td>NaN</td>\n",
       "      <td>NaN</td>\n",
       "      <td>NaN</td>\n",
       "      <td>NaN</td>\n",
       "      <td>NaN</td>\n",
       "      <td>87.440937</td>\n",
       "      <td>7.327992</td>\n",
       "      <td>19.396980</td>\n",
       "      <td>NaN</td>\n",
       "      <td>NaN</td>\n",
       "      <td>NaN</td>\n",
       "      <td>NaN</td>\n",
       "      <td>NaN</td>\n",
       "    </tr>\n",
       "    <tr>\n",
       "      <th>min</th>\n",
       "      <td>NaN</td>\n",
       "      <td>NaN</td>\n",
       "      <td>NaN</td>\n",
       "      <td>NaN</td>\n",
       "      <td>NaN</td>\n",
       "      <td>NaN</td>\n",
       "      <td>1.000000</td>\n",
       "      <td>21.922776</td>\n",
       "      <td>-159.484153</td>\n",
       "      <td>NaN</td>\n",
       "      <td>NaN</td>\n",
       "      <td>NaN</td>\n",
       "      <td>NaN</td>\n",
       "      <td>NaN</td>\n",
       "    </tr>\n",
       "    <tr>\n",
       "      <th>25%</th>\n",
       "      <td>NaN</td>\n",
       "      <td>NaN</td>\n",
       "      <td>NaN</td>\n",
       "      <td>NaN</td>\n",
       "      <td>NaN</td>\n",
       "      <td>NaN</td>\n",
       "      <td>1.000000</td>\n",
       "      <td>30.409298</td>\n",
       "      <td>-111.011402</td>\n",
       "      <td>NaN</td>\n",
       "      <td>NaN</td>\n",
       "      <td>NaN</td>\n",
       "      <td>NaN</td>\n",
       "      <td>NaN</td>\n",
       "    </tr>\n",
       "    <tr>\n",
       "      <th>50%</th>\n",
       "      <td>NaN</td>\n",
       "      <td>NaN</td>\n",
       "      <td>NaN</td>\n",
       "      <td>NaN</td>\n",
       "      <td>NaN</td>\n",
       "      <td>NaN</td>\n",
       "      <td>1.000000</td>\n",
       "      <td>37.684864</td>\n",
       "      <td>-94.634354</td>\n",
       "      <td>NaN</td>\n",
       "      <td>NaN</td>\n",
       "      <td>NaN</td>\n",
       "      <td>NaN</td>\n",
       "      <td>NaN</td>\n",
       "    </tr>\n",
       "    <tr>\n",
       "      <th>75%</th>\n",
       "      <td>NaN</td>\n",
       "      <td>NaN</td>\n",
       "      <td>NaN</td>\n",
       "      <td>NaN</td>\n",
       "      <td>NaN</td>\n",
       "      <td>NaN</td>\n",
       "      <td>3.000000</td>\n",
       "      <td>41.827949</td>\n",
       "      <td>-80.212083</td>\n",
       "      <td>NaN</td>\n",
       "      <td>NaN</td>\n",
       "      <td>NaN</td>\n",
       "      <td>NaN</td>\n",
       "      <td>NaN</td>\n",
       "    </tr>\n",
       "    <tr>\n",
       "      <th>max</th>\n",
       "      <td>NaN</td>\n",
       "      <td>NaN</td>\n",
       "      <td>NaN</td>\n",
       "      <td>NaN</td>\n",
       "      <td>NaN</td>\n",
       "      <td>NaN</td>\n",
       "      <td>2000.000000</td>\n",
       "      <td>70.128616</td>\n",
       "      <td>-67.903233</td>\n",
       "      <td>NaN</td>\n",
       "      <td>NaN</td>\n",
       "      <td>NaN</td>\n",
       "      <td>NaN</td>\n",
       "      <td>NaN</td>\n",
       "    </tr>\n",
       "  </tbody>\n",
       "</table>\n",
       "</div>"
      ]
     },
     "execution_count": 35,
     "metadata": {},
     "output_type": "execute_result"
    }
   ],
   "execution_count": 35
  },
  {
   "metadata": {
    "ExecuteTime": {
     "end_time": "2025-10-18T19:36:05.689857Z",
     "start_time": "2025-10-18T19:36:05.685902Z"
    }
   },
   "cell_type": "code",
   "source": [
    "# nulos por columna\n",
    "df.isnull().sum()"
   ],
   "id": "d6d27301ee0c3676",
   "outputs": [
    {
     "data": {
      "text/plain": [
       "speciesCode          0\n",
       "comName              0\n",
       "sciName              0\n",
       "locId                0\n",
       "locName              0\n",
       "obsDt                0\n",
       "howMany              5\n",
       "lat                  0\n",
       "lng                  0\n",
       "obsValid             0\n",
       "obsReviewed          0\n",
       "locationPrivate      0\n",
       "subId                0\n",
       "exoticCategory     526\n",
       "dtype: int64"
      ]
     },
     "execution_count": 36,
     "metadata": {},
     "output_type": "execute_result"
    }
   ],
   "execution_count": 36
  },
  {
   "metadata": {
    "ExecuteTime": {
     "end_time": "2025-10-18T19:36:13.305321Z",
     "start_time": "2025-10-18T19:36:13.299953Z"
    }
   },
   "cell_type": "code",
   "source": [
    "# strings vacíos\n",
    "(df == \"\").sum()"
   ],
   "id": "58f615b8e0cf75cf",
   "outputs": [
    {
     "data": {
      "text/plain": [
       "speciesCode        0\n",
       "comName            0\n",
       "sciName            0\n",
       "locId              0\n",
       "locName            0\n",
       "obsDt              0\n",
       "howMany            0\n",
       "lat                0\n",
       "lng                0\n",
       "obsValid           0\n",
       "obsReviewed        0\n",
       "locationPrivate    0\n",
       "subId              0\n",
       "exoticCategory     0\n",
       "dtype: int64"
      ]
     },
     "execution_count": 37,
     "metadata": {},
     "output_type": "execute_result"
    }
   ],
   "execution_count": 37
  },
  {
   "metadata": {
    "ExecuteTime": {
     "end_time": "2025-09-25T22:18:23.336211Z",
     "start_time": "2025-09-25T22:18:23.330938Z"
    }
   },
   "cell_type": "code",
   "source": [
    "# equivalente\n",
    "df.isna().sum()"
   ],
   "id": "8ef6d8c12154cd7e",
   "outputs": [
    {
     "data": {
      "text/plain": [
       "speciesCode          0\n",
       "comName              0\n",
       "sciName              0\n",
       "locId                0\n",
       "locName              0\n",
       "obsDt                0\n",
       "howMany              5\n",
       "lat                  0\n",
       "lng                  0\n",
       "obsValid             0\n",
       "obsReviewed          0\n",
       "locationPrivate      0\n",
       "subId                0\n",
       "exoticCategory     531\n",
       "dtype: int64"
      ]
     },
     "execution_count": 54,
     "metadata": {},
     "output_type": "execute_result"
    }
   ],
   "execution_count": 54
  },
  {
   "metadata": {
    "ExecuteTime": {
     "end_time": "2025-10-18T19:36:19.185313Z",
     "start_time": "2025-10-18T19:36:19.179643Z"
    }
   },
   "cell_type": "code",
   "source": [
    "# número de filas duplicadas\n",
    "df.duplicated().sum()"
   ],
   "id": "dbd5f64627ad0827",
   "outputs": [
    {
     "data": {
      "text/plain": [
       "np.int64(0)"
      ]
     },
     "execution_count": 38,
     "metadata": {},
     "output_type": "execute_result"
    }
   ],
   "execution_count": 38
  },
  {
   "metadata": {
    "ExecuteTime": {
     "end_time": "2025-10-18T19:36:21.117290Z",
     "start_time": "2025-10-18T19:36:21.109279Z"
    }
   },
   "cell_type": "code",
   "source": [
    "# valores únicos por columna\n",
    "df.nunique()"
   ],
   "id": "f04624eb3e134472",
   "outputs": [
    {
     "data": {
      "text/plain": [
       "speciesCode        570\n",
       "comName            570\n",
       "sciName            570\n",
       "locId              382\n",
       "locName            379\n",
       "obsDt              258\n",
       "howMany             37\n",
       "lat                382\n",
       "lng                382\n",
       "obsValid             1\n",
       "obsReviewed          2\n",
       "locationPrivate      2\n",
       "subId              386\n",
       "exoticCategory       3\n",
       "dtype: int64"
      ]
     },
     "execution_count": 39,
     "metadata": {},
     "output_type": "execute_result"
    }
   ],
   "execution_count": 39
  },
  {
   "metadata": {
    "ExecuteTime": {
     "end_time": "2025-10-18T19:36:25.525793Z",
     "start_time": "2025-10-18T19:36:25.509397Z"
    }
   },
   "cell_type": "code",
   "source": "pd.to_datetime(df[\"obsDt\"], errors=\"coerce\").head()",
   "id": "1a4e9642d57cb5dc",
   "outputs": [
    {
     "data": {
      "text/plain": [
       "0   2025-09-25 22:29:00\n",
       "1   2025-09-25 22:29:00\n",
       "2   2025-09-25 22:29:00\n",
       "3   2025-09-25 22:29:00\n",
       "4   2025-09-25 22:29:00\n",
       "Name: obsDt, dtype: datetime64[ns]"
      ]
     },
     "execution_count": 40,
     "metadata": {},
     "output_type": "execute_result"
    }
   ],
   "execution_count": 40
  },
  {
   "metadata": {
    "ExecuteTime": {
     "end_time": "2025-10-18T19:36:28.282562Z",
     "start_time": "2025-10-18T19:36:28.278752Z"
    }
   },
   "cell_type": "code",
   "source": "df[\"exoticCategory\"].value_counts(dropna=False)\n",
   "id": "434ab703af2a9128",
   "outputs": [
    {
     "data": {
      "text/plain": [
       "exoticCategory\n",
       "NaN    526\n",
       "N       31\n",
       "P        9\n",
       "X        4\n",
       "Name: count, dtype: int64"
      ]
     },
     "execution_count": 41,
     "metadata": {},
     "output_type": "execute_result"
    }
   ],
   "execution_count": 41
  },
  {
   "metadata": {
    "ExecuteTime": {
     "end_time": "2025-10-18T19:36:34.362019Z",
     "start_time": "2025-10-18T19:36:34.358801Z"
    }
   },
   "cell_type": "code",
   "source": [
    "# Filtrar observaciones inválidas\n",
    "invalid_obs = df[df[\"obsValid\"] == False]\n",
    "# Mostrar cuántas son\n",
    "print(f\"Observaciones inválidas: {len(invalid_obs)}\")"
   ],
   "id": "2cb5d41cdf59041e",
   "outputs": [
    {
     "name": "stdout",
     "output_type": "stream",
     "text": [
      "Observaciones inválidas: 0\n"
     ]
    }
   ],
   "execution_count": 42
  },
  {
   "metadata": {
    "ExecuteTime": {
     "end_time": "2025-10-18T19:36:37.435410Z",
     "start_time": "2025-10-18T19:36:37.431895Z"
    }
   },
   "cell_type": "code",
   "source": [
    "# Verificar nulos en howMany\n",
    "df[\"howMany\"].isnull().sum()\n"
   ],
   "id": "fe1ac351db4e2c34",
   "outputs": [
    {
     "data": {
      "text/plain": [
       "np.int64(5)"
      ]
     },
     "execution_count": 43,
     "metadata": {},
     "output_type": "execute_result"
    }
   ],
   "execution_count": 43
  },
  {
   "metadata": {
    "ExecuteTime": {
     "end_time": "2025-10-18T19:36:40.745812Z",
     "start_time": "2025-10-18T19:36:40.742342Z"
    }
   },
   "cell_type": "code",
   "source": [
    "# Ver cuántos valores tienen decimales en howMany\n",
    "decimales = df[\"howMany\"] % 1 != 0\n",
    "cantidad_con_decimales = decimales.sum()\n",
    "\n",
    "print(f\"Cantidad de registros con decimales en 'howMany': {cantidad_con_decimales}\")\n",
    "if cantidad_con_decimales > 0:\n",
    "    print(\"Ejemplos con decimales:\")\n",
    "    print(df.loc[decimales, \"howMany\"].head())\n",
    "else:\n",
    "    print(\"Todos los valores en 'howMany' son enteros.\")\n"
   ],
   "id": "51d81324eede9c88",
   "outputs": [
    {
     "name": "stdout",
     "output_type": "stream",
     "text": [
      "Cantidad de registros con decimales en 'howMany': 5\n",
      "Ejemplos con decimales:\n",
      "5     NaN\n",
      "232   NaN\n",
      "254   NaN\n",
      "405   NaN\n",
      "528   NaN\n",
      "Name: howMany, dtype: float64\n"
     ]
    }
   ],
   "execution_count": 44
  },
  {
   "metadata": {
    "ExecuteTime": {
     "end_time": "2025-10-18T19:36:47.772991Z",
     "start_time": "2025-10-18T19:36:47.769413Z"
    }
   },
   "cell_type": "code",
   "source": [
    "# Verificar si existen ceros explícitos\n",
    "df[df[\"howMany\"] == 0].shape[0]\n"
   ],
   "id": "c6a7aac7bb1eee9a",
   "outputs": [
    {
     "data": {
      "text/plain": [
       "0"
      ]
     },
     "execution_count": 45,
     "metadata": {},
     "output_type": "execute_result"
    }
   ],
   "execution_count": 45
  },
  {
   "metadata": {
    "ExecuteTime": {
     "end_time": "2025-10-18T19:36:50.933740Z",
     "start_time": "2025-10-18T19:36:50.930216Z"
    }
   },
   "cell_type": "code",
   "source": [
    "# Conteo de valores en obsReviewed\n",
    "df[\"obsReviewed\"].value_counts(dropna=False)"
   ],
   "id": "cc2873979e89715b",
   "outputs": [
    {
     "data": {
      "text/plain": [
       "obsReviewed\n",
       "False    563\n",
       "True       7\n",
       "Name: count, dtype: int64"
      ]
     },
     "execution_count": 46,
     "metadata": {},
     "output_type": "execute_result"
    }
   ],
   "execution_count": 46
  },
  {
   "metadata": {
    "ExecuteTime": {
     "end_time": "2025-10-18T19:39:27.440428Z",
     "start_time": "2025-10-18T19:39:27.437055Z"
    }
   },
   "cell_type": "code",
   "source": [
    "# Decisión: eliminar registros con howMany nulo o igual a 0\n",
    "# Eliminar valores no finitos en howMany (NaN, inf, -inf)\n",
    "df = df[pd.to_numeric(df[\"howMany\"], errors=\"coerce\").notnull()]\n",
    "df = df[df[\"howMany\"] > 0]\n",
    "# Justificación: howMany representa un conteo entero de individuos observados no float.\n",
    "# Se eliminan previamente los NaN y valores inconsistentes.\n",
    "df[\"howMany\"] = df[\"howMany\"].astype(int)"
   ],
   "id": "b9eefe3263a63c63",
   "outputs": [],
   "execution_count": 48
  },
  {
   "metadata": {
    "ExecuteTime": {
     "end_time": "2025-10-18T19:39:30.939218Z",
     "start_time": "2025-10-18T19:39:30.928886Z"
    }
   },
   "cell_type": "code",
   "source": [
    "# Eliminar columnas irrelevantes\n",
    "# locName: es un campo libre definido por los usuarios (ej. “Mi balcón”), no estandarizado ni útil para análisis reproducibles.\n",
    "# exoticCategory: presenta valores nulos en la mayoría de los registros y no aporta información relevante para el objetivo del análisis.\n",
    "# locationPrivate: indica si la ubicación es privada, pero no es relevante para el análisis de especies de aves en chile.\n",
    "# obsReviewed: indica si la observación fue revisada manualmente por un experto; en este análisis no aporta valor adicional,\n",
    "#              ya que nos quedamos con la validación automática (obsValid) como criterio de calidad.\n",
    "cols_to_drop = [\"locName\", \"exoticCategory\", \"locationPrivate\", \"obsReviewed\"]\n",
    "df_clean = df.drop(columns=cols_to_drop)\n",
    "df_clean.head()"
   ],
   "id": "f49115393111361b",
   "outputs": [
    {
     "data": {
      "text/plain": [
       "  speciesCode              comName                 sciName      locId  \\\n",
       "0      eursta      Estornino Pinto        Sturnus vulgaris  L51167893   \n",
       "1      amecro     Cuervo Americano   Corvus brachyrhynchos  L51167893   \n",
       "2      houfin  Camachuelo Mexicano    Haemorhous mexicanus  L51167893   \n",
       "3      eucdov        Tórtola Turca   Streptopelia decaocto  L51167893   \n",
       "4     cowscj1   Chara Californiana  Aphelocoma californica  L51167893   \n",
       "\n",
       "              obsDt  howMany        lat         lng  obsValid       subId  \n",
       "0  2025-09-25 22:29       10  46.166141 -123.016334      True  S275428083  \n",
       "1  2025-09-25 22:29        2  46.166141 -123.016334      True  S275428083  \n",
       "2  2025-09-25 22:29        3  46.166141 -123.016334      True  S275428083  \n",
       "3  2025-09-25 22:29        5  46.166141 -123.016334      True  S275428083  \n",
       "4  2025-09-25 22:29        3  46.166141 -123.016334      True  S275428083  "
      ],
      "text/html": [
       "<div>\n",
       "<style scoped>\n",
       "    .dataframe tbody tr th:only-of-type {\n",
       "        vertical-align: middle;\n",
       "    }\n",
       "\n",
       "    .dataframe tbody tr th {\n",
       "        vertical-align: top;\n",
       "    }\n",
       "\n",
       "    .dataframe thead th {\n",
       "        text-align: right;\n",
       "    }\n",
       "</style>\n",
       "<table border=\"1\" class=\"dataframe\">\n",
       "  <thead>\n",
       "    <tr style=\"text-align: right;\">\n",
       "      <th></th>\n",
       "      <th>speciesCode</th>\n",
       "      <th>comName</th>\n",
       "      <th>sciName</th>\n",
       "      <th>locId</th>\n",
       "      <th>obsDt</th>\n",
       "      <th>howMany</th>\n",
       "      <th>lat</th>\n",
       "      <th>lng</th>\n",
       "      <th>obsValid</th>\n",
       "      <th>subId</th>\n",
       "    </tr>\n",
       "  </thead>\n",
       "  <tbody>\n",
       "    <tr>\n",
       "      <th>0</th>\n",
       "      <td>eursta</td>\n",
       "      <td>Estornino Pinto</td>\n",
       "      <td>Sturnus vulgaris</td>\n",
       "      <td>L51167893</td>\n",
       "      <td>2025-09-25 22:29</td>\n",
       "      <td>10</td>\n",
       "      <td>46.166141</td>\n",
       "      <td>-123.016334</td>\n",
       "      <td>True</td>\n",
       "      <td>S275428083</td>\n",
       "    </tr>\n",
       "    <tr>\n",
       "      <th>1</th>\n",
       "      <td>amecro</td>\n",
       "      <td>Cuervo Americano</td>\n",
       "      <td>Corvus brachyrhynchos</td>\n",
       "      <td>L51167893</td>\n",
       "      <td>2025-09-25 22:29</td>\n",
       "      <td>2</td>\n",
       "      <td>46.166141</td>\n",
       "      <td>-123.016334</td>\n",
       "      <td>True</td>\n",
       "      <td>S275428083</td>\n",
       "    </tr>\n",
       "    <tr>\n",
       "      <th>2</th>\n",
       "      <td>houfin</td>\n",
       "      <td>Camachuelo Mexicano</td>\n",
       "      <td>Haemorhous mexicanus</td>\n",
       "      <td>L51167893</td>\n",
       "      <td>2025-09-25 22:29</td>\n",
       "      <td>3</td>\n",
       "      <td>46.166141</td>\n",
       "      <td>-123.016334</td>\n",
       "      <td>True</td>\n",
       "      <td>S275428083</td>\n",
       "    </tr>\n",
       "    <tr>\n",
       "      <th>3</th>\n",
       "      <td>eucdov</td>\n",
       "      <td>Tórtola Turca</td>\n",
       "      <td>Streptopelia decaocto</td>\n",
       "      <td>L51167893</td>\n",
       "      <td>2025-09-25 22:29</td>\n",
       "      <td>5</td>\n",
       "      <td>46.166141</td>\n",
       "      <td>-123.016334</td>\n",
       "      <td>True</td>\n",
       "      <td>S275428083</td>\n",
       "    </tr>\n",
       "    <tr>\n",
       "      <th>4</th>\n",
       "      <td>cowscj1</td>\n",
       "      <td>Chara Californiana</td>\n",
       "      <td>Aphelocoma californica</td>\n",
       "      <td>L51167893</td>\n",
       "      <td>2025-09-25 22:29</td>\n",
       "      <td>3</td>\n",
       "      <td>46.166141</td>\n",
       "      <td>-123.016334</td>\n",
       "      <td>True</td>\n",
       "      <td>S275428083</td>\n",
       "    </tr>\n",
       "  </tbody>\n",
       "</table>\n",
       "</div>"
      ]
     },
     "execution_count": 49,
     "metadata": {},
     "output_type": "execute_result"
    }
   ],
   "execution_count": 49
  }
 ],
 "metadata": {
  "kernelspec": {
   "display_name": "Python 3",
   "language": "python",
   "name": "python3"
  },
  "language_info": {
   "codemirror_mode": {
    "name": "ipython",
    "version": 2
   },
   "file_extension": ".py",
   "mimetype": "text/x-python",
   "name": "python",
   "nbconvert_exporter": "python",
   "pygments_lexer": "ipython2",
   "version": "2.7.6"
  }
 },
 "nbformat": 4,
 "nbformat_minor": 5
}
