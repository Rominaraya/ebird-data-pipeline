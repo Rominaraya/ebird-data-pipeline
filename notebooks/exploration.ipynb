{
 "cells": [
  {
   "cell_type": "code",
   "id": "initial_id",
   "metadata": {
    "collapsed": true,
    "ExecuteTime": {
     "end_time": "2025-09-25T21:53:53.144814Z",
     "start_time": "2025-09-25T21:53:53.138704Z"
    }
   },
   "source": [
    "import json\n",
    "import pandas as pd\n",
    "from pathlib import Path"
   ],
   "outputs": [],
   "execution_count": 31
  },
  {
   "metadata": {
    "ExecuteTime": {
     "end_time": "2025-09-25T22:05:58.410409Z",
     "start_time": "2025-09-25T22:05:58.408476Z"
    }
   },
   "cell_type": "code",
   "source": [
    "NOTEBOOK_DIR = Path().resolve()\n",
    "BASE_DIR = NOTEBOOK_DIR.parent\n",
    "RAW_DATA_DIR = BASE_DIR / \"data\" / \"raw\""
   ],
   "id": "80c44af42d0c646e",
   "outputs": [],
   "execution_count": 60
  },
  {
   "metadata": {
    "ExecuteTime": {
     "end_time": "2025-09-25T22:06:52.786799Z",
     "start_time": "2025-09-25T22:06:52.780929Z"
    }
   },
   "cell_type": "code",
   "source": [
    "# Listar archivos JSON en data/raw\n",
    "raw_files = sorted(RAW_DATA_DIR.glob(\"*.json\"))\n",
    "raw_files[-5:]"
   ],
   "id": "363e4d77391c5044",
   "outputs": [
    {
     "data": {
      "text/plain": [
       "[PosixPath('/home/billie/Programación/Python/ebird_data/data/raw/ebird_CL_20250925_164236.json')]"
      ]
     },
     "execution_count": 64,
     "metadata": {},
     "output_type": "execute_result"
    }
   ],
   "execution_count": 64
  },
  {
   "metadata": {
    "ExecuteTime": {
     "end_time": "2025-09-25T22:06:54.051094Z",
     "start_time": "2025-09-25T22:06:54.044730Z"
    }
   },
   "cell_type": "code",
   "source": [
    "# Tomar el último archivo crudo\n",
    "latest_file = raw_files[-1]\n",
    "print(f\"Usando archivo: {latest_file}\")\n",
    "with open(latest_file, \"r\", encoding=\"utf-8\") as f:\n",
    "    raw_data = json.load(f)\n",
    "df = pd.DataFrame(raw_data)"
   ],
   "id": "1ab2b4111bcfd740",
   "outputs": [
    {
     "name": "stdout",
     "output_type": "stream",
     "text": [
      "Usando archivo: /home/billie/Programación/Python/ebird_data/data/raw/ebird_CL_20250925_164236.json\n"
     ]
    }
   ],
   "execution_count": 65
  },
  {
   "metadata": {
    "ExecuteTime": {
     "end_time": "2025-09-25T21:56:38.768392Z",
     "start_time": "2025-09-25T21:56:38.760763Z"
    }
   },
   "cell_type": "code",
   "source": [
    "# Primeras filas\n",
    "df.head(10)"
   ],
   "id": "7a7f8103f59cdcf1",
   "outputs": [
    {
     "data": {
      "text/plain": [
       "  speciesCode                 comName                sciName      locId  \\\n",
       "0      houspa           Gorrión Común      Passer domesticus  L23993146   \n",
       "1      rocpig           Paloma Bravía          Columba livia  L23993146   \n",
       "2     rucspa1          Chingolo Común   Zonotrichia capensis  L23993146   \n",
       "3     austhr1          Zorzal Patagón     Turdus falcklandii  L23993146   \n",
       "4     houwre4  Chochín Criollo Sureño   Troglodytes musculus  L23993146   \n",
       "5      greegr          Garceta Grande             Ardea alba   L1020637   \n",
       "6     refcoo1       Focha Frentirroja       Fulica rufifrons   L1020637   \n",
       "7     soulap1            Avefría Tero     Vanellus chilensis   L1020637   \n",
       "8     chiswa1      Golondrina Chilena  Tachycineta leucopyga   L1020637   \n",
       "9      kelgul        Gaviota Cocinera      Larus dominicanus   L1020637   \n",
       "\n",
       "          locName             obsDt  howMany        lat        lng  obsValid  \\\n",
       "0  CCR La Pintana  2025-09-25 14:41        6 -33.585376 -70.635849      True   \n",
       "1  CCR La Pintana  2025-09-25 14:41        1 -33.585376 -70.635849      True   \n",
       "2  CCR La Pintana  2025-09-25 14:41        1 -33.585376 -70.635849      True   \n",
       "3  CCR La Pintana  2025-09-25 14:41        2 -33.585376 -70.635849      True   \n",
       "4  CCR La Pintana  2025-09-25 14:41        1 -33.585376 -70.635849      True   \n",
       "5   Brisa del Sol  2025-09-25 14:40        1 -36.770441 -73.069829      True   \n",
       "6   Brisa del Sol  2025-09-25 14:40        5 -36.770441 -73.069829      True   \n",
       "7   Brisa del Sol  2025-09-25 14:40        3 -36.770441 -73.069829      True   \n",
       "8   Brisa del Sol  2025-09-25 14:40        1 -36.770441 -73.069829      True   \n",
       "9   Brisa del Sol  2025-09-25 14:40        3 -36.770441 -73.069829      True   \n",
       "\n",
       "   obsReviewed  locationPrivate       subId exoticCategory  \n",
       "0        False            False  S275429510              N  \n",
       "1        False            False  S275429510              N  \n",
       "2        False            False  S275429510            NaN  \n",
       "3        False            False  S275429510            NaN  \n",
       "4        False            False  S275429510            NaN  \n",
       "5        False            False  S275429727            NaN  \n",
       "6        False            False  S275429727            NaN  \n",
       "7        False            False  S275429727            NaN  \n",
       "8        False            False  S275429727            NaN  \n",
       "9        False            False  S275429727            NaN  "
      ],
      "text/html": [
       "<div>\n",
       "<style scoped>\n",
       "    .dataframe tbody tr th:only-of-type {\n",
       "        vertical-align: middle;\n",
       "    }\n",
       "\n",
       "    .dataframe tbody tr th {\n",
       "        vertical-align: top;\n",
       "    }\n",
       "\n",
       "    .dataframe thead th {\n",
       "        text-align: right;\n",
       "    }\n",
       "</style>\n",
       "<table border=\"1\" class=\"dataframe\">\n",
       "  <thead>\n",
       "    <tr style=\"text-align: right;\">\n",
       "      <th></th>\n",
       "      <th>speciesCode</th>\n",
       "      <th>comName</th>\n",
       "      <th>sciName</th>\n",
       "      <th>locId</th>\n",
       "      <th>locName</th>\n",
       "      <th>obsDt</th>\n",
       "      <th>howMany</th>\n",
       "      <th>lat</th>\n",
       "      <th>lng</th>\n",
       "      <th>obsValid</th>\n",
       "      <th>obsReviewed</th>\n",
       "      <th>locationPrivate</th>\n",
       "      <th>subId</th>\n",
       "      <th>exoticCategory</th>\n",
       "    </tr>\n",
       "  </thead>\n",
       "  <tbody>\n",
       "    <tr>\n",
       "      <th>0</th>\n",
       "      <td>houspa</td>\n",
       "      <td>Gorrión Común</td>\n",
       "      <td>Passer domesticus</td>\n",
       "      <td>L23993146</td>\n",
       "      <td>CCR La Pintana</td>\n",
       "      <td>2025-09-25 14:41</td>\n",
       "      <td>6</td>\n",
       "      <td>-33.585376</td>\n",
       "      <td>-70.635849</td>\n",
       "      <td>True</td>\n",
       "      <td>False</td>\n",
       "      <td>False</td>\n",
       "      <td>S275429510</td>\n",
       "      <td>N</td>\n",
       "    </tr>\n",
       "    <tr>\n",
       "      <th>1</th>\n",
       "      <td>rocpig</td>\n",
       "      <td>Paloma Bravía</td>\n",
       "      <td>Columba livia</td>\n",
       "      <td>L23993146</td>\n",
       "      <td>CCR La Pintana</td>\n",
       "      <td>2025-09-25 14:41</td>\n",
       "      <td>1</td>\n",
       "      <td>-33.585376</td>\n",
       "      <td>-70.635849</td>\n",
       "      <td>True</td>\n",
       "      <td>False</td>\n",
       "      <td>False</td>\n",
       "      <td>S275429510</td>\n",
       "      <td>N</td>\n",
       "    </tr>\n",
       "    <tr>\n",
       "      <th>2</th>\n",
       "      <td>rucspa1</td>\n",
       "      <td>Chingolo Común</td>\n",
       "      <td>Zonotrichia capensis</td>\n",
       "      <td>L23993146</td>\n",
       "      <td>CCR La Pintana</td>\n",
       "      <td>2025-09-25 14:41</td>\n",
       "      <td>1</td>\n",
       "      <td>-33.585376</td>\n",
       "      <td>-70.635849</td>\n",
       "      <td>True</td>\n",
       "      <td>False</td>\n",
       "      <td>False</td>\n",
       "      <td>S275429510</td>\n",
       "      <td>NaN</td>\n",
       "    </tr>\n",
       "    <tr>\n",
       "      <th>3</th>\n",
       "      <td>austhr1</td>\n",
       "      <td>Zorzal Patagón</td>\n",
       "      <td>Turdus falcklandii</td>\n",
       "      <td>L23993146</td>\n",
       "      <td>CCR La Pintana</td>\n",
       "      <td>2025-09-25 14:41</td>\n",
       "      <td>2</td>\n",
       "      <td>-33.585376</td>\n",
       "      <td>-70.635849</td>\n",
       "      <td>True</td>\n",
       "      <td>False</td>\n",
       "      <td>False</td>\n",
       "      <td>S275429510</td>\n",
       "      <td>NaN</td>\n",
       "    </tr>\n",
       "    <tr>\n",
       "      <th>4</th>\n",
       "      <td>houwre4</td>\n",
       "      <td>Chochín Criollo Sureño</td>\n",
       "      <td>Troglodytes musculus</td>\n",
       "      <td>L23993146</td>\n",
       "      <td>CCR La Pintana</td>\n",
       "      <td>2025-09-25 14:41</td>\n",
       "      <td>1</td>\n",
       "      <td>-33.585376</td>\n",
       "      <td>-70.635849</td>\n",
       "      <td>True</td>\n",
       "      <td>False</td>\n",
       "      <td>False</td>\n",
       "      <td>S275429510</td>\n",
       "      <td>NaN</td>\n",
       "    </tr>\n",
       "    <tr>\n",
       "      <th>5</th>\n",
       "      <td>greegr</td>\n",
       "      <td>Garceta Grande</td>\n",
       "      <td>Ardea alba</td>\n",
       "      <td>L1020637</td>\n",
       "      <td>Brisa del Sol</td>\n",
       "      <td>2025-09-25 14:40</td>\n",
       "      <td>1</td>\n",
       "      <td>-36.770441</td>\n",
       "      <td>-73.069829</td>\n",
       "      <td>True</td>\n",
       "      <td>False</td>\n",
       "      <td>False</td>\n",
       "      <td>S275429727</td>\n",
       "      <td>NaN</td>\n",
       "    </tr>\n",
       "    <tr>\n",
       "      <th>6</th>\n",
       "      <td>refcoo1</td>\n",
       "      <td>Focha Frentirroja</td>\n",
       "      <td>Fulica rufifrons</td>\n",
       "      <td>L1020637</td>\n",
       "      <td>Brisa del Sol</td>\n",
       "      <td>2025-09-25 14:40</td>\n",
       "      <td>5</td>\n",
       "      <td>-36.770441</td>\n",
       "      <td>-73.069829</td>\n",
       "      <td>True</td>\n",
       "      <td>False</td>\n",
       "      <td>False</td>\n",
       "      <td>S275429727</td>\n",
       "      <td>NaN</td>\n",
       "    </tr>\n",
       "    <tr>\n",
       "      <th>7</th>\n",
       "      <td>soulap1</td>\n",
       "      <td>Avefría Tero</td>\n",
       "      <td>Vanellus chilensis</td>\n",
       "      <td>L1020637</td>\n",
       "      <td>Brisa del Sol</td>\n",
       "      <td>2025-09-25 14:40</td>\n",
       "      <td>3</td>\n",
       "      <td>-36.770441</td>\n",
       "      <td>-73.069829</td>\n",
       "      <td>True</td>\n",
       "      <td>False</td>\n",
       "      <td>False</td>\n",
       "      <td>S275429727</td>\n",
       "      <td>NaN</td>\n",
       "    </tr>\n",
       "    <tr>\n",
       "      <th>8</th>\n",
       "      <td>chiswa1</td>\n",
       "      <td>Golondrina Chilena</td>\n",
       "      <td>Tachycineta leucopyga</td>\n",
       "      <td>L1020637</td>\n",
       "      <td>Brisa del Sol</td>\n",
       "      <td>2025-09-25 14:40</td>\n",
       "      <td>1</td>\n",
       "      <td>-36.770441</td>\n",
       "      <td>-73.069829</td>\n",
       "      <td>True</td>\n",
       "      <td>False</td>\n",
       "      <td>False</td>\n",
       "      <td>S275429727</td>\n",
       "      <td>NaN</td>\n",
       "    </tr>\n",
       "    <tr>\n",
       "      <th>9</th>\n",
       "      <td>kelgul</td>\n",
       "      <td>Gaviota Cocinera</td>\n",
       "      <td>Larus dominicanus</td>\n",
       "      <td>L1020637</td>\n",
       "      <td>Brisa del Sol</td>\n",
       "      <td>2025-09-25 14:40</td>\n",
       "      <td>3</td>\n",
       "      <td>-36.770441</td>\n",
       "      <td>-73.069829</td>\n",
       "      <td>True</td>\n",
       "      <td>False</td>\n",
       "      <td>False</td>\n",
       "      <td>S275429727</td>\n",
       "      <td>NaN</td>\n",
       "    </tr>\n",
       "  </tbody>\n",
       "</table>\n",
       "</div>"
      ]
     },
     "execution_count": 44,
     "metadata": {},
     "output_type": "execute_result"
    }
   ],
   "execution_count": 44
  },
  {
   "metadata": {
    "ExecuteTime": {
     "end_time": "2025-09-25T21:55:41.234319Z",
     "start_time": "2025-09-25T21:55:41.226486Z"
    }
   },
   "cell_type": "code",
   "source": [
    "# últimas filas\n",
    "df.tail(10)"
   ],
   "id": "ea4fc56766694534",
   "outputs": [
    {
     "data": {
      "text/plain": [
       "    speciesCode                  comName                   sciName      locId  \\\n",
       "176     chisku1           Págalo Chileno    Stercorarius chilensis   L6598526   \n",
       "177      bkbalb         Albatros Ojeroso  Thalassarche melanophris   L6598526   \n",
       "178     souful1           Fulmar Austral     Fulmarus glacialoides   L6598526   \n",
       "179     eleter1         Charrán Elegante        Thalasseus elegans    L504553   \n",
       "180     soater1     Charrán Sudamericano       Sterna hirundinacea    L504553   \n",
       "181     siltea1        Cerceta Capuchina        Spatula versicolor    L504553   \n",
       "182      semsan  Correlimos Semipalmeado          Calidris pusilla    L504553   \n",
       "183     elctin1          Martineta Común          Eudromia elegans   L8493771   \n",
       "184     patmoc1         Sinsonte Patagón         Mimus patagonicus   L8493771   \n",
       "185     twbplo1     Chorlitejo Malvinero  Anarhynchus falklandicus  L53233073   \n",
       "\n",
       "                                               locName             obsDt  \\\n",
       "176                               Parque del Estrecho   2025-09-24 17:20   \n",
       "177                               Parque del Estrecho   2025-09-24 17:20   \n",
       "178                               Parque del Estrecho   2025-09-24 17:20   \n",
       "179                SN Humedal Río Maipo--Desembocadura  2025-09-24 16:20   \n",
       "180                SN Humedal Río Maipo--Desembocadura  2025-09-24 16:20   \n",
       "181                SN Humedal Río Maipo--Desembocadura  2025-09-24 16:20   \n",
       "182                SN Humedal Río Maipo--Desembocadura  2025-09-24 16:20   \n",
       "183                    Ruta X-753--Gruta San Sebastián  2025-09-24 16:10   \n",
       "184                    Ruta X-753--Gruta San Sebastián  2025-09-24 16:10   \n",
       "185  6210459, Torres del Paine CL-Región de Magalla...  2025-09-24 15:48   \n",
       "\n",
       "     howMany        lat        lng  obsValid  obsReviewed  locationPrivate  \\\n",
       "176        2 -53.632387 -70.917054      True        False             True   \n",
       "177        1 -53.632387 -70.917054      True        False             True   \n",
       "178        2 -53.632387 -70.917054      True        False             True   \n",
       "179        8 -33.619801 -71.627544      True        False            False   \n",
       "180       40 -33.619801 -71.627544      True        False            False   \n",
       "181        1 -33.619801 -71.627544      True        False            False   \n",
       "182       12 -33.619801 -71.627544      True        False            False   \n",
       "183        3 -46.650922 -71.684497      True        False            False   \n",
       "184        1 -46.650922 -71.684497      True        False            False   \n",
       "185        1 -50.995255 -72.740224      True        False             True   \n",
       "\n",
       "          subId exoticCategory  \n",
       "176  S275313442            NaN  \n",
       "177  S275313442            NaN  \n",
       "178  S275313442            NaN  \n",
       "179  S275289988            NaN  \n",
       "180  S275289988            NaN  \n",
       "181  S275289988            NaN  \n",
       "182  S275289988            NaN  \n",
       "183  S275311243            NaN  \n",
       "184  S275311243            NaN  \n",
       "185  S275319819            NaN  "
      ],
      "text/html": [
       "<div>\n",
       "<style scoped>\n",
       "    .dataframe tbody tr th:only-of-type {\n",
       "        vertical-align: middle;\n",
       "    }\n",
       "\n",
       "    .dataframe tbody tr th {\n",
       "        vertical-align: top;\n",
       "    }\n",
       "\n",
       "    .dataframe thead th {\n",
       "        text-align: right;\n",
       "    }\n",
       "</style>\n",
       "<table border=\"1\" class=\"dataframe\">\n",
       "  <thead>\n",
       "    <tr style=\"text-align: right;\">\n",
       "      <th></th>\n",
       "      <th>speciesCode</th>\n",
       "      <th>comName</th>\n",
       "      <th>sciName</th>\n",
       "      <th>locId</th>\n",
       "      <th>locName</th>\n",
       "      <th>obsDt</th>\n",
       "      <th>howMany</th>\n",
       "      <th>lat</th>\n",
       "      <th>lng</th>\n",
       "      <th>obsValid</th>\n",
       "      <th>obsReviewed</th>\n",
       "      <th>locationPrivate</th>\n",
       "      <th>subId</th>\n",
       "      <th>exoticCategory</th>\n",
       "    </tr>\n",
       "  </thead>\n",
       "  <tbody>\n",
       "    <tr>\n",
       "      <th>176</th>\n",
       "      <td>chisku1</td>\n",
       "      <td>Págalo Chileno</td>\n",
       "      <td>Stercorarius chilensis</td>\n",
       "      <td>L6598526</td>\n",
       "      <td>Parque del Estrecho</td>\n",
       "      <td>2025-09-24 17:20</td>\n",
       "      <td>2</td>\n",
       "      <td>-53.632387</td>\n",
       "      <td>-70.917054</td>\n",
       "      <td>True</td>\n",
       "      <td>False</td>\n",
       "      <td>True</td>\n",
       "      <td>S275313442</td>\n",
       "      <td>NaN</td>\n",
       "    </tr>\n",
       "    <tr>\n",
       "      <th>177</th>\n",
       "      <td>bkbalb</td>\n",
       "      <td>Albatros Ojeroso</td>\n",
       "      <td>Thalassarche melanophris</td>\n",
       "      <td>L6598526</td>\n",
       "      <td>Parque del Estrecho</td>\n",
       "      <td>2025-09-24 17:20</td>\n",
       "      <td>1</td>\n",
       "      <td>-53.632387</td>\n",
       "      <td>-70.917054</td>\n",
       "      <td>True</td>\n",
       "      <td>False</td>\n",
       "      <td>True</td>\n",
       "      <td>S275313442</td>\n",
       "      <td>NaN</td>\n",
       "    </tr>\n",
       "    <tr>\n",
       "      <th>178</th>\n",
       "      <td>souful1</td>\n",
       "      <td>Fulmar Austral</td>\n",
       "      <td>Fulmarus glacialoides</td>\n",
       "      <td>L6598526</td>\n",
       "      <td>Parque del Estrecho</td>\n",
       "      <td>2025-09-24 17:20</td>\n",
       "      <td>2</td>\n",
       "      <td>-53.632387</td>\n",
       "      <td>-70.917054</td>\n",
       "      <td>True</td>\n",
       "      <td>False</td>\n",
       "      <td>True</td>\n",
       "      <td>S275313442</td>\n",
       "      <td>NaN</td>\n",
       "    </tr>\n",
       "    <tr>\n",
       "      <th>179</th>\n",
       "      <td>eleter1</td>\n",
       "      <td>Charrán Elegante</td>\n",
       "      <td>Thalasseus elegans</td>\n",
       "      <td>L504553</td>\n",
       "      <td>SN Humedal Río Maipo--Desembocadura</td>\n",
       "      <td>2025-09-24 16:20</td>\n",
       "      <td>8</td>\n",
       "      <td>-33.619801</td>\n",
       "      <td>-71.627544</td>\n",
       "      <td>True</td>\n",
       "      <td>False</td>\n",
       "      <td>False</td>\n",
       "      <td>S275289988</td>\n",
       "      <td>NaN</td>\n",
       "    </tr>\n",
       "    <tr>\n",
       "      <th>180</th>\n",
       "      <td>soater1</td>\n",
       "      <td>Charrán Sudamericano</td>\n",
       "      <td>Sterna hirundinacea</td>\n",
       "      <td>L504553</td>\n",
       "      <td>SN Humedal Río Maipo--Desembocadura</td>\n",
       "      <td>2025-09-24 16:20</td>\n",
       "      <td>40</td>\n",
       "      <td>-33.619801</td>\n",
       "      <td>-71.627544</td>\n",
       "      <td>True</td>\n",
       "      <td>False</td>\n",
       "      <td>False</td>\n",
       "      <td>S275289988</td>\n",
       "      <td>NaN</td>\n",
       "    </tr>\n",
       "    <tr>\n",
       "      <th>181</th>\n",
       "      <td>siltea1</td>\n",
       "      <td>Cerceta Capuchina</td>\n",
       "      <td>Spatula versicolor</td>\n",
       "      <td>L504553</td>\n",
       "      <td>SN Humedal Río Maipo--Desembocadura</td>\n",
       "      <td>2025-09-24 16:20</td>\n",
       "      <td>1</td>\n",
       "      <td>-33.619801</td>\n",
       "      <td>-71.627544</td>\n",
       "      <td>True</td>\n",
       "      <td>False</td>\n",
       "      <td>False</td>\n",
       "      <td>S275289988</td>\n",
       "      <td>NaN</td>\n",
       "    </tr>\n",
       "    <tr>\n",
       "      <th>182</th>\n",
       "      <td>semsan</td>\n",
       "      <td>Correlimos Semipalmeado</td>\n",
       "      <td>Calidris pusilla</td>\n",
       "      <td>L504553</td>\n",
       "      <td>SN Humedal Río Maipo--Desembocadura</td>\n",
       "      <td>2025-09-24 16:20</td>\n",
       "      <td>12</td>\n",
       "      <td>-33.619801</td>\n",
       "      <td>-71.627544</td>\n",
       "      <td>True</td>\n",
       "      <td>False</td>\n",
       "      <td>False</td>\n",
       "      <td>S275289988</td>\n",
       "      <td>NaN</td>\n",
       "    </tr>\n",
       "    <tr>\n",
       "      <th>183</th>\n",
       "      <td>elctin1</td>\n",
       "      <td>Martineta Común</td>\n",
       "      <td>Eudromia elegans</td>\n",
       "      <td>L8493771</td>\n",
       "      <td>Ruta X-753--Gruta San Sebastián</td>\n",
       "      <td>2025-09-24 16:10</td>\n",
       "      <td>3</td>\n",
       "      <td>-46.650922</td>\n",
       "      <td>-71.684497</td>\n",
       "      <td>True</td>\n",
       "      <td>False</td>\n",
       "      <td>False</td>\n",
       "      <td>S275311243</td>\n",
       "      <td>NaN</td>\n",
       "    </tr>\n",
       "    <tr>\n",
       "      <th>184</th>\n",
       "      <td>patmoc1</td>\n",
       "      <td>Sinsonte Patagón</td>\n",
       "      <td>Mimus patagonicus</td>\n",
       "      <td>L8493771</td>\n",
       "      <td>Ruta X-753--Gruta San Sebastián</td>\n",
       "      <td>2025-09-24 16:10</td>\n",
       "      <td>1</td>\n",
       "      <td>-46.650922</td>\n",
       "      <td>-71.684497</td>\n",
       "      <td>True</td>\n",
       "      <td>False</td>\n",
       "      <td>False</td>\n",
       "      <td>S275311243</td>\n",
       "      <td>NaN</td>\n",
       "    </tr>\n",
       "    <tr>\n",
       "      <th>185</th>\n",
       "      <td>twbplo1</td>\n",
       "      <td>Chorlitejo Malvinero</td>\n",
       "      <td>Anarhynchus falklandicus</td>\n",
       "      <td>L53233073</td>\n",
       "      <td>6210459, Torres del Paine CL-Región de Magalla...</td>\n",
       "      <td>2025-09-24 15:48</td>\n",
       "      <td>1</td>\n",
       "      <td>-50.995255</td>\n",
       "      <td>-72.740224</td>\n",
       "      <td>True</td>\n",
       "      <td>False</td>\n",
       "      <td>True</td>\n",
       "      <td>S275319819</td>\n",
       "      <td>NaN</td>\n",
       "    </tr>\n",
       "  </tbody>\n",
       "</table>\n",
       "</div>"
      ]
     },
     "execution_count": 41,
     "metadata": {},
     "output_type": "execute_result"
    }
   ],
   "execution_count": 41
  },
  {
   "metadata": {
    "ExecuteTime": {
     "end_time": "2025-09-25T21:57:08.756087Z",
     "start_time": "2025-09-25T21:57:08.749749Z"
    }
   },
   "cell_type": "code",
   "source": [
    "# tipos de datos, nulos, memoria\n",
    "df.info()"
   ],
   "id": "7ae62f7db9e45eda",
   "outputs": [
    {
     "name": "stdout",
     "output_type": "stream",
     "text": [
      "<class 'pandas.core.frame.DataFrame'>\n",
      "RangeIndex: 186 entries, 0 to 185\n",
      "Data columns (total 14 columns):\n",
      " #   Column           Non-Null Count  Dtype  \n",
      "---  ------           --------------  -----  \n",
      " 0   speciesCode      186 non-null    object \n",
      " 1   comName          186 non-null    object \n",
      " 2   sciName          186 non-null    object \n",
      " 3   locId            186 non-null    object \n",
      " 4   locName          186 non-null    object \n",
      " 5   obsDt            186 non-null    object \n",
      " 6   howMany          186 non-null    int64  \n",
      " 7   lat              186 non-null    float64\n",
      " 8   lng              186 non-null    float64\n",
      " 9   obsValid         186 non-null    bool   \n",
      " 10  obsReviewed      186 non-null    bool   \n",
      " 11  locationPrivate  186 non-null    bool   \n",
      " 12  subId            186 non-null    object \n",
      " 13  exoticCategory   6 non-null      object \n",
      "dtypes: bool(3), float64(2), int64(1), object(8)\n",
      "memory usage: 16.7+ KB\n"
     ]
    }
   ],
   "execution_count": 46
  },
  {
   "metadata": {
    "ExecuteTime": {
     "end_time": "2025-09-25T21:53:58.221355Z",
     "start_time": "2025-09-25T21:53:58.218756Z"
    }
   },
   "cell_type": "code",
   "source": [
    "# (filas, columnas)\n",
    "df.shape"
   ],
   "id": "9b864c6fc4c89988",
   "outputs": [
    {
     "data": {
      "text/plain": [
       "(186, 14)"
      ]
     },
     "execution_count": 35,
     "metadata": {},
     "output_type": "execute_result"
    }
   ],
   "execution_count": 35
  },
  {
   "metadata": {
    "ExecuteTime": {
     "end_time": "2025-09-25T21:54:00.323198Z",
     "start_time": "2025-09-25T21:54:00.320578Z"
    }
   },
   "cell_type": "code",
   "source": [
    "# lista de columnas\n",
    "df.columns.tolist()"
   ],
   "id": "60cc158d4cc3a982",
   "outputs": [
    {
     "data": {
      "text/plain": [
       "['speciesCode',\n",
       " 'comName',\n",
       " 'sciName',\n",
       " 'locId',\n",
       " 'locName',\n",
       " 'obsDt',\n",
       " 'howMany',\n",
       " 'lat',\n",
       " 'lng',\n",
       " 'obsValid',\n",
       " 'obsReviewed',\n",
       " 'locationPrivate',\n",
       " 'subId',\n",
       " 'exoticCategory']"
      ]
     },
     "execution_count": 36,
     "metadata": {},
     "output_type": "execute_result"
    }
   ],
   "execution_count": 36
  },
  {
   "metadata": {
    "ExecuteTime": {
     "end_time": "2025-09-25T22:07:48.613627Z",
     "start_time": "2025-09-25T22:07:48.594942Z"
    }
   },
   "cell_type": "code",
   "source": [
    "# todas las columnas\n",
    "df.describe(include=\"all\")"
   ],
   "id": "187132d3cec44c67",
   "outputs": [
    {
     "data": {
      "text/plain": [
       "       speciesCode        comName            sciName    locId  \\\n",
       "count          186            186                186      186   \n",
       "unique         186            186                186       63   \n",
       "top         houspa  Gorrión Común  Passer domesticus  L551450   \n",
       "freq             1              1                  1       22   \n",
       "mean           NaN            NaN                NaN      NaN   \n",
       "std            NaN            NaN                NaN      NaN   \n",
       "min            NaN            NaN                NaN      NaN   \n",
       "25%            NaN            NaN                NaN      NaN   \n",
       "50%            NaN            NaN                NaN      NaN   \n",
       "75%            NaN            NaN                NaN      NaN   \n",
       "max            NaN            NaN                NaN      NaN   \n",
       "\n",
       "                   locName             obsDt     howMany         lat  \\\n",
       "count                  186               186  186.000000  186.000000   \n",
       "unique                  63                65         NaN         NaN   \n",
       "top     SN Laguna El Peral  2025-09-25 14:10         NaN         NaN   \n",
       "freq                    22                22         NaN         NaN   \n",
       "mean                   NaN               NaN    6.892473  -34.824417   \n",
       "std                    NaN               NaN   19.888860    8.165039   \n",
       "min                    NaN               NaN    1.000000  -53.632387   \n",
       "25%                    NaN               NaN    1.000000  -38.459172   \n",
       "50%                    NaN               NaN    2.000000  -33.505215   \n",
       "75%                    NaN               NaN    4.000000  -33.018029   \n",
       "max                    NaN               NaN  200.000000  -18.250885   \n",
       "\n",
       "               lng obsValid obsReviewed locationPrivate       subId  \\\n",
       "count   186.000000      186         186             186         186   \n",
       "unique         NaN        1           2               2          66   \n",
       "top            NaN     True       False           False  S275428598   \n",
       "freq           NaN      186         184             134          22   \n",
       "mean    -71.568185      NaN         NaN             NaN         NaN   \n",
       "std       1.108160      NaN         NaN             NaN         NaN   \n",
       "min     -73.271584      NaN         NaN             NaN         NaN   \n",
       "25%     -72.498200      NaN         NaN             NaN         NaN   \n",
       "50%     -71.607154      NaN         NaN             NaN         NaN   \n",
       "75%     -70.637157      NaN         NaN             NaN         NaN   \n",
       "max     -69.176105      NaN         NaN             NaN         NaN   \n",
       "\n",
       "       exoticCategory  \n",
       "count               6  \n",
       "unique              2  \n",
       "top                 N  \n",
       "freq                4  \n",
       "mean              NaN  \n",
       "std               NaN  \n",
       "min               NaN  \n",
       "25%               NaN  \n",
       "50%               NaN  \n",
       "75%               NaN  \n",
       "max               NaN  "
      ],
      "text/html": [
       "<div>\n",
       "<style scoped>\n",
       "    .dataframe tbody tr th:only-of-type {\n",
       "        vertical-align: middle;\n",
       "    }\n",
       "\n",
       "    .dataframe tbody tr th {\n",
       "        vertical-align: top;\n",
       "    }\n",
       "\n",
       "    .dataframe thead th {\n",
       "        text-align: right;\n",
       "    }\n",
       "</style>\n",
       "<table border=\"1\" class=\"dataframe\">\n",
       "  <thead>\n",
       "    <tr style=\"text-align: right;\">\n",
       "      <th></th>\n",
       "      <th>speciesCode</th>\n",
       "      <th>comName</th>\n",
       "      <th>sciName</th>\n",
       "      <th>locId</th>\n",
       "      <th>locName</th>\n",
       "      <th>obsDt</th>\n",
       "      <th>howMany</th>\n",
       "      <th>lat</th>\n",
       "      <th>lng</th>\n",
       "      <th>obsValid</th>\n",
       "      <th>obsReviewed</th>\n",
       "      <th>locationPrivate</th>\n",
       "      <th>subId</th>\n",
       "      <th>exoticCategory</th>\n",
       "    </tr>\n",
       "  </thead>\n",
       "  <tbody>\n",
       "    <tr>\n",
       "      <th>count</th>\n",
       "      <td>186</td>\n",
       "      <td>186</td>\n",
       "      <td>186</td>\n",
       "      <td>186</td>\n",
       "      <td>186</td>\n",
       "      <td>186</td>\n",
       "      <td>186.000000</td>\n",
       "      <td>186.000000</td>\n",
       "      <td>186.000000</td>\n",
       "      <td>186</td>\n",
       "      <td>186</td>\n",
       "      <td>186</td>\n",
       "      <td>186</td>\n",
       "      <td>6</td>\n",
       "    </tr>\n",
       "    <tr>\n",
       "      <th>unique</th>\n",
       "      <td>186</td>\n",
       "      <td>186</td>\n",
       "      <td>186</td>\n",
       "      <td>63</td>\n",
       "      <td>63</td>\n",
       "      <td>65</td>\n",
       "      <td>NaN</td>\n",
       "      <td>NaN</td>\n",
       "      <td>NaN</td>\n",
       "      <td>1</td>\n",
       "      <td>2</td>\n",
       "      <td>2</td>\n",
       "      <td>66</td>\n",
       "      <td>2</td>\n",
       "    </tr>\n",
       "    <tr>\n",
       "      <th>top</th>\n",
       "      <td>houspa</td>\n",
       "      <td>Gorrión Común</td>\n",
       "      <td>Passer domesticus</td>\n",
       "      <td>L551450</td>\n",
       "      <td>SN Laguna El Peral</td>\n",
       "      <td>2025-09-25 14:10</td>\n",
       "      <td>NaN</td>\n",
       "      <td>NaN</td>\n",
       "      <td>NaN</td>\n",
       "      <td>True</td>\n",
       "      <td>False</td>\n",
       "      <td>False</td>\n",
       "      <td>S275428598</td>\n",
       "      <td>N</td>\n",
       "    </tr>\n",
       "    <tr>\n",
       "      <th>freq</th>\n",
       "      <td>1</td>\n",
       "      <td>1</td>\n",
       "      <td>1</td>\n",
       "      <td>22</td>\n",
       "      <td>22</td>\n",
       "      <td>22</td>\n",
       "      <td>NaN</td>\n",
       "      <td>NaN</td>\n",
       "      <td>NaN</td>\n",
       "      <td>186</td>\n",
       "      <td>184</td>\n",
       "      <td>134</td>\n",
       "      <td>22</td>\n",
       "      <td>4</td>\n",
       "    </tr>\n",
       "    <tr>\n",
       "      <th>mean</th>\n",
       "      <td>NaN</td>\n",
       "      <td>NaN</td>\n",
       "      <td>NaN</td>\n",
       "      <td>NaN</td>\n",
       "      <td>NaN</td>\n",
       "      <td>NaN</td>\n",
       "      <td>6.892473</td>\n",
       "      <td>-34.824417</td>\n",
       "      <td>-71.568185</td>\n",
       "      <td>NaN</td>\n",
       "      <td>NaN</td>\n",
       "      <td>NaN</td>\n",
       "      <td>NaN</td>\n",
       "      <td>NaN</td>\n",
       "    </tr>\n",
       "    <tr>\n",
       "      <th>std</th>\n",
       "      <td>NaN</td>\n",
       "      <td>NaN</td>\n",
       "      <td>NaN</td>\n",
       "      <td>NaN</td>\n",
       "      <td>NaN</td>\n",
       "      <td>NaN</td>\n",
       "      <td>19.888860</td>\n",
       "      <td>8.165039</td>\n",
       "      <td>1.108160</td>\n",
       "      <td>NaN</td>\n",
       "      <td>NaN</td>\n",
       "      <td>NaN</td>\n",
       "      <td>NaN</td>\n",
       "      <td>NaN</td>\n",
       "    </tr>\n",
       "    <tr>\n",
       "      <th>min</th>\n",
       "      <td>NaN</td>\n",
       "      <td>NaN</td>\n",
       "      <td>NaN</td>\n",
       "      <td>NaN</td>\n",
       "      <td>NaN</td>\n",
       "      <td>NaN</td>\n",
       "      <td>1.000000</td>\n",
       "      <td>-53.632387</td>\n",
       "      <td>-73.271584</td>\n",
       "      <td>NaN</td>\n",
       "      <td>NaN</td>\n",
       "      <td>NaN</td>\n",
       "      <td>NaN</td>\n",
       "      <td>NaN</td>\n",
       "    </tr>\n",
       "    <tr>\n",
       "      <th>25%</th>\n",
       "      <td>NaN</td>\n",
       "      <td>NaN</td>\n",
       "      <td>NaN</td>\n",
       "      <td>NaN</td>\n",
       "      <td>NaN</td>\n",
       "      <td>NaN</td>\n",
       "      <td>1.000000</td>\n",
       "      <td>-38.459172</td>\n",
       "      <td>-72.498200</td>\n",
       "      <td>NaN</td>\n",
       "      <td>NaN</td>\n",
       "      <td>NaN</td>\n",
       "      <td>NaN</td>\n",
       "      <td>NaN</td>\n",
       "    </tr>\n",
       "    <tr>\n",
       "      <th>50%</th>\n",
       "      <td>NaN</td>\n",
       "      <td>NaN</td>\n",
       "      <td>NaN</td>\n",
       "      <td>NaN</td>\n",
       "      <td>NaN</td>\n",
       "      <td>NaN</td>\n",
       "      <td>2.000000</td>\n",
       "      <td>-33.505215</td>\n",
       "      <td>-71.607154</td>\n",
       "      <td>NaN</td>\n",
       "      <td>NaN</td>\n",
       "      <td>NaN</td>\n",
       "      <td>NaN</td>\n",
       "      <td>NaN</td>\n",
       "    </tr>\n",
       "    <tr>\n",
       "      <th>75%</th>\n",
       "      <td>NaN</td>\n",
       "      <td>NaN</td>\n",
       "      <td>NaN</td>\n",
       "      <td>NaN</td>\n",
       "      <td>NaN</td>\n",
       "      <td>NaN</td>\n",
       "      <td>4.000000</td>\n",
       "      <td>-33.018029</td>\n",
       "      <td>-70.637157</td>\n",
       "      <td>NaN</td>\n",
       "      <td>NaN</td>\n",
       "      <td>NaN</td>\n",
       "      <td>NaN</td>\n",
       "      <td>NaN</td>\n",
       "    </tr>\n",
       "    <tr>\n",
       "      <th>max</th>\n",
       "      <td>NaN</td>\n",
       "      <td>NaN</td>\n",
       "      <td>NaN</td>\n",
       "      <td>NaN</td>\n",
       "      <td>NaN</td>\n",
       "      <td>NaN</td>\n",
       "      <td>200.000000</td>\n",
       "      <td>-18.250885</td>\n",
       "      <td>-69.176105</td>\n",
       "      <td>NaN</td>\n",
       "      <td>NaN</td>\n",
       "      <td>NaN</td>\n",
       "      <td>NaN</td>\n",
       "      <td>NaN</td>\n",
       "    </tr>\n",
       "  </tbody>\n",
       "</table>\n",
       "</div>"
      ]
     },
     "execution_count": 67,
     "metadata": {},
     "output_type": "execute_result"
    }
   ],
   "execution_count": 67
  },
  {
   "metadata": {
    "ExecuteTime": {
     "end_time": "2025-09-25T19:43:17.722275Z",
     "start_time": "2025-09-25T19:43:17.717883Z"
    }
   },
   "cell_type": "code",
   "source": [
    "# nulos por columna\n",
    "df.isnull().sum()"
   ],
   "id": "d6d27301ee0c3676",
   "outputs": [
    {
     "data": {
      "text/plain": [
       "speciesCode          0\n",
       "comName              0\n",
       "sciName              0\n",
       "locId                0\n",
       "locName              0\n",
       "obsDt                0\n",
       "howMany              0\n",
       "lat                  0\n",
       "lng                  0\n",
       "obsValid             0\n",
       "obsReviewed          0\n",
       "locationPrivate      0\n",
       "subId                0\n",
       "exoticCategory     180\n",
       "dtype: int64"
      ]
     },
     "execution_count": 10,
     "metadata": {},
     "output_type": "execute_result"
    }
   ],
   "execution_count": 10
  },
  {
   "metadata": {
    "ExecuteTime": {
     "end_time": "2025-09-25T19:43:17.776412Z",
     "start_time": "2025-09-25T19:43:17.771346Z"
    }
   },
   "cell_type": "code",
   "source": [
    "# strings vacíos\n",
    "(df == \"\").sum()"
   ],
   "id": "58f615b8e0cf75cf",
   "outputs": [
    {
     "data": {
      "text/plain": [
       "speciesCode        0\n",
       "comName            0\n",
       "sciName            0\n",
       "locId              0\n",
       "locName            0\n",
       "obsDt              0\n",
       "howMany            0\n",
       "lat                0\n",
       "lng                0\n",
       "obsValid           0\n",
       "obsReviewed        0\n",
       "locationPrivate    0\n",
       "subId              0\n",
       "exoticCategory     0\n",
       "dtype: int64"
      ]
     },
     "execution_count": 11,
     "metadata": {},
     "output_type": "execute_result"
    }
   ],
   "execution_count": 11
  },
  {
   "metadata": {
    "ExecuteTime": {
     "end_time": "2025-09-25T19:43:17.823831Z",
     "start_time": "2025-09-25T19:43:17.819858Z"
    }
   },
   "cell_type": "code",
   "source": [
    "# equivalente\n",
    "df.isna().sum()"
   ],
   "id": "8ef6d8c12154cd7e",
   "outputs": [
    {
     "data": {
      "text/plain": [
       "speciesCode          0\n",
       "comName              0\n",
       "sciName              0\n",
       "locId                0\n",
       "locName              0\n",
       "obsDt                0\n",
       "howMany              0\n",
       "lat                  0\n",
       "lng                  0\n",
       "obsValid             0\n",
       "obsReviewed          0\n",
       "locationPrivate      0\n",
       "subId                0\n",
       "exoticCategory     180\n",
       "dtype: int64"
      ]
     },
     "execution_count": 12,
     "metadata": {},
     "output_type": "execute_result"
    }
   ],
   "execution_count": 12
  },
  {
   "metadata": {
    "ExecuteTime": {
     "end_time": "2025-09-25T21:57:39.560764Z",
     "start_time": "2025-09-25T21:57:39.556430Z"
    }
   },
   "cell_type": "code",
   "source": [
    "# número de filas duplicadas\n",
    "df.duplicated().sum()"
   ],
   "id": "dbd5f64627ad0827",
   "outputs": [
    {
     "data": {
      "text/plain": [
       "np.int64(0)"
      ]
     },
     "execution_count": 47,
     "metadata": {},
     "output_type": "execute_result"
    }
   ],
   "execution_count": 47
  },
  {
   "metadata": {
    "ExecuteTime": {
     "end_time": "2025-09-25T19:43:18.026097Z",
     "start_time": "2025-09-25T19:43:18.022584Z"
    }
   },
   "cell_type": "code",
   "source": [
    "# valores únicos por columna\n",
    "df.nunique()"
   ],
   "id": "f04624eb3e134472",
   "outputs": [
    {
     "data": {
      "text/plain": [
       "speciesCode        186\n",
       "comName            186\n",
       "sciName            186\n",
       "locId               63\n",
       "locName             63\n",
       "obsDt               65\n",
       "howMany             25\n",
       "lat                 63\n",
       "lng                 63\n",
       "obsValid             1\n",
       "obsReviewed          2\n",
       "locationPrivate      2\n",
       "subId               66\n",
       "exoticCategory       2\n",
       "dtype: int64"
      ]
     },
     "execution_count": 16,
     "metadata": {},
     "output_type": "execute_result"
    }
   ],
   "execution_count": 16
  },
  {
   "metadata": {
    "ExecuteTime": {
     "end_time": "2025-09-25T19:43:18.078847Z",
     "start_time": "2025-09-25T19:43:18.072917Z"
    }
   },
   "cell_type": "code",
   "source": "pd.to_datetime(df[\"obsDt\"], errors=\"coerce\").head()",
   "id": "1a4e9642d57cb5dc",
   "outputs": [
    {
     "data": {
      "text/plain": [
       "0   2025-09-25 14:41:00\n",
       "1   2025-09-25 14:41:00\n",
       "2   2025-09-25 14:41:00\n",
       "3   2025-09-25 14:41:00\n",
       "4   2025-09-25 14:41:00\n",
       "Name: obsDt, dtype: datetime64[ns]"
      ]
     },
     "execution_count": 17,
     "metadata": {},
     "output_type": "execute_result"
    }
   ],
   "execution_count": 17
  },
  {
   "metadata": {
    "ExecuteTime": {
     "end_time": "2025-09-25T21:59:36.851476Z",
     "start_time": "2025-09-25T21:59:36.841533Z"
    }
   },
   "cell_type": "code",
   "source": "df[\"exoticCategory\"].value_counts(dropna=False)\n",
   "id": "434ab703af2a9128",
   "outputs": [
    {
     "data": {
      "text/plain": [
       "exoticCategory\n",
       "NaN    180\n",
       "N        4\n",
       "X        2\n",
       "Name: count, dtype: int64"
      ]
     },
     "execution_count": 51,
     "metadata": {},
     "output_type": "execute_result"
    }
   ],
   "execution_count": 51
  },
  {
   "metadata": {
    "ExecuteTime": {
     "end_time": "2025-09-25T21:59:57.251070Z",
     "start_time": "2025-09-25T21:59:57.245797Z"
    }
   },
   "cell_type": "code",
   "source": [
    "# Filtrar observaciones inválidas\n",
    "invalid_obs = df[df[\"obsValid\"] == False]\n",
    "# Mostrar cuántas son\n",
    "print(f\"Observaciones inválidas: {len(invalid_obs)}\")"
   ],
   "id": "2cb5d41cdf59041e",
   "outputs": [
    {
     "name": "stdout",
     "output_type": "stream",
     "text": [
      "Observaciones inválidas: 0\n"
     ]
    }
   ],
   "execution_count": 55
  },
  {
   "metadata": {
    "ExecuteTime": {
     "end_time": "2025-09-25T22:00:02.448611Z",
     "start_time": "2025-09-25T22:00:02.441882Z"
    }
   },
   "cell_type": "code",
   "source": [
    "# Conteo de valores en obsReviewed\n",
    "df[\"obsReviewed\"].value_counts(dropna=False)"
   ],
   "id": "cc2873979e89715b",
   "outputs": [
    {
     "data": {
      "text/plain": [
       "obsReviewed\n",
       "False    184\n",
       "True       2\n",
       "Name: count, dtype: int64"
      ]
     },
     "execution_count": 56,
     "metadata": {},
     "output_type": "execute_result"
    }
   ],
   "execution_count": 56
  },
  {
   "metadata": {},
   "cell_type": "markdown",
   "source": "",
   "id": "d7736c808fd27a59"
  },
  {
   "metadata": {
    "ExecuteTime": {
     "end_time": "2025-09-25T22:00:09.330743Z",
     "start_time": "2025-09-25T22:00:09.320780Z"
    }
   },
   "cell_type": "code",
   "source": [
    "# Eliminar columnas irrelevantes\n",
    "# locName: es un campo libre definido por los usuarios (ej. “Mi balcón”), no estandarizado ni útil para análisis reproducibles.\n",
    "# exoticCategory: presenta valores nulos en la mayoría de los registros y no aporta información relevante para el objetivo del análisis.\n",
    "# locationPrivate: indica si la ubicación es privada, pero no es relevante para el análisis de especies de aves en chile.\n",
    "# obsReviewed: indica si la observación fue revisada manualmente por un experto; en este análisis no aporta valor adicional,\n",
    "#              ya que nos quedamos con la validación automática (obsValid) como criterio de calidad.\n",
    "cols_to_drop = [\"locName\", \"exoticCategory\", \"locationPrivate\", \"obsReviewed\"]\n",
    "df_clean = df.drop(columns=cols_to_drop)\n",
    "df_clean.head()"
   ],
   "id": "f49115393111361b",
   "outputs": [
    {
     "data": {
      "text/plain": [
       "  speciesCode                 comName               sciName      locId  \\\n",
       "0      houspa           Gorrión Común     Passer domesticus  L23993146   \n",
       "1      rocpig           Paloma Bravía         Columba livia  L23993146   \n",
       "2     rucspa1          Chingolo Común  Zonotrichia capensis  L23993146   \n",
       "3     austhr1          Zorzal Patagón    Turdus falcklandii  L23993146   \n",
       "4     houwre4  Chochín Criollo Sureño  Troglodytes musculus  L23993146   \n",
       "\n",
       "              obsDt  howMany        lat        lng  obsValid       subId  \n",
       "0  2025-09-25 14:41        6 -33.585376 -70.635849      True  S275429510  \n",
       "1  2025-09-25 14:41        1 -33.585376 -70.635849      True  S275429510  \n",
       "2  2025-09-25 14:41        1 -33.585376 -70.635849      True  S275429510  \n",
       "3  2025-09-25 14:41        2 -33.585376 -70.635849      True  S275429510  \n",
       "4  2025-09-25 14:41        1 -33.585376 -70.635849      True  S275429510  "
      ],
      "text/html": [
       "<div>\n",
       "<style scoped>\n",
       "    .dataframe tbody tr th:only-of-type {\n",
       "        vertical-align: middle;\n",
       "    }\n",
       "\n",
       "    .dataframe tbody tr th {\n",
       "        vertical-align: top;\n",
       "    }\n",
       "\n",
       "    .dataframe thead th {\n",
       "        text-align: right;\n",
       "    }\n",
       "</style>\n",
       "<table border=\"1\" class=\"dataframe\">\n",
       "  <thead>\n",
       "    <tr style=\"text-align: right;\">\n",
       "      <th></th>\n",
       "      <th>speciesCode</th>\n",
       "      <th>comName</th>\n",
       "      <th>sciName</th>\n",
       "      <th>locId</th>\n",
       "      <th>obsDt</th>\n",
       "      <th>howMany</th>\n",
       "      <th>lat</th>\n",
       "      <th>lng</th>\n",
       "      <th>obsValid</th>\n",
       "      <th>subId</th>\n",
       "    </tr>\n",
       "  </thead>\n",
       "  <tbody>\n",
       "    <tr>\n",
       "      <th>0</th>\n",
       "      <td>houspa</td>\n",
       "      <td>Gorrión Común</td>\n",
       "      <td>Passer domesticus</td>\n",
       "      <td>L23993146</td>\n",
       "      <td>2025-09-25 14:41</td>\n",
       "      <td>6</td>\n",
       "      <td>-33.585376</td>\n",
       "      <td>-70.635849</td>\n",
       "      <td>True</td>\n",
       "      <td>S275429510</td>\n",
       "    </tr>\n",
       "    <tr>\n",
       "      <th>1</th>\n",
       "      <td>rocpig</td>\n",
       "      <td>Paloma Bravía</td>\n",
       "      <td>Columba livia</td>\n",
       "      <td>L23993146</td>\n",
       "      <td>2025-09-25 14:41</td>\n",
       "      <td>1</td>\n",
       "      <td>-33.585376</td>\n",
       "      <td>-70.635849</td>\n",
       "      <td>True</td>\n",
       "      <td>S275429510</td>\n",
       "    </tr>\n",
       "    <tr>\n",
       "      <th>2</th>\n",
       "      <td>rucspa1</td>\n",
       "      <td>Chingolo Común</td>\n",
       "      <td>Zonotrichia capensis</td>\n",
       "      <td>L23993146</td>\n",
       "      <td>2025-09-25 14:41</td>\n",
       "      <td>1</td>\n",
       "      <td>-33.585376</td>\n",
       "      <td>-70.635849</td>\n",
       "      <td>True</td>\n",
       "      <td>S275429510</td>\n",
       "    </tr>\n",
       "    <tr>\n",
       "      <th>3</th>\n",
       "      <td>austhr1</td>\n",
       "      <td>Zorzal Patagón</td>\n",
       "      <td>Turdus falcklandii</td>\n",
       "      <td>L23993146</td>\n",
       "      <td>2025-09-25 14:41</td>\n",
       "      <td>2</td>\n",
       "      <td>-33.585376</td>\n",
       "      <td>-70.635849</td>\n",
       "      <td>True</td>\n",
       "      <td>S275429510</td>\n",
       "    </tr>\n",
       "    <tr>\n",
       "      <th>4</th>\n",
       "      <td>houwre4</td>\n",
       "      <td>Chochín Criollo Sureño</td>\n",
       "      <td>Troglodytes musculus</td>\n",
       "      <td>L23993146</td>\n",
       "      <td>2025-09-25 14:41</td>\n",
       "      <td>1</td>\n",
       "      <td>-33.585376</td>\n",
       "      <td>-70.635849</td>\n",
       "      <td>True</td>\n",
       "      <td>S275429510</td>\n",
       "    </tr>\n",
       "  </tbody>\n",
       "</table>\n",
       "</div>"
      ]
     },
     "execution_count": 57,
     "metadata": {},
     "output_type": "execute_result"
    }
   ],
   "execution_count": 57
  }
 ],
 "metadata": {
  "kernelspec": {
   "display_name": "Python 3",
   "language": "python",
   "name": "python3"
  },
  "language_info": {
   "codemirror_mode": {
    "name": "ipython",
    "version": 2
   },
   "file_extension": ".py",
   "mimetype": "text/x-python",
   "name": "python",
   "nbconvert_exporter": "python",
   "pygments_lexer": "ipython2",
   "version": "2.7.6"
  }
 },
 "nbformat": 4,
 "nbformat_minor": 5
}
